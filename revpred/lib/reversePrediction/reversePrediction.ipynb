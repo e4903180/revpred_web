{
 "cells": [
  {
   "cell_type": "code",
   "execution_count": 1,
   "metadata": {},
   "outputs": [],
   "source": [
    "import json\n",
    "from preprocessor.preprocessor_pytorch import Preprocessor\n",
    "from model.model_pytorch import Model\n",
    "from postprocessor.postprocessor import Postprocesser\n",
    "from evaluator.evaluator_pytorch import Evaluator\n",
    "import numpy as np\n",
    "import pandas as pd\n",
    "import tensorflow as tf\n",
    "import random\n",
    "import torch\n",
    "import torch.nn as nn\n",
    "import torch.nn.functional as F\n",
    "import tqdm\n",
    "import os\n",
    "import time\n",
    "import pickle\n",
    "from sklearn.model_selection import train_test_split\n",
    "\n",
    "class ReversePrediction():\n",
    "    def set_seed(self, seed_value):\n",
    "        np.random.seed(seed_value)\n",
    "        tf.random.set_seed(seed_value)\n",
    "        random.seed(seed_value)\n",
    "        torch.manual_seed(seed_value)\n",
    "\n",
    "\n",
    "    def run(self, params): \n",
    "        self.set_seed(42)\n",
    "        preprocessor = Preprocessor(params)\n",
    "        X_train, y_train, X_val, y_val, X_test, y_test, test_dates, X_newest, x_newest_date, y_newest_date, target_symbol_data = preprocessor.get_multiple_data()\n",
    "        \n",
    "        start_time = time.time()\n",
    "        model_wrapper = Model(params=params)\n",
    "        model, history, y_preds, online_training_losses, online_training_acc = \\\n",
    "            model_wrapper.run(X_train, y_train, X_test, y_test, X_val, y_val)\n",
    "        y_pred_newest = model.forward(X_newest)\n",
    "        end_time = time.time()\n",
    "        execution_time = end_time - start_time\n",
    "        \n",
    "        y_preds = torch.tensor(y_preds, dtype=torch.float32)\n",
    "        y_preds = preprocessor.change_values_after_first_reverse_point(y_preds)\n",
    "        y_pred_newest = torch.tensor(y_pred_newest, dtype=torch.float32)\n",
    "        y_pred_newest_filtered = preprocessor.change_values_after_first_reverse_point(y_pred_newest)\n",
    "        \n",
    "        postprocessor = Postprocesser()\n",
    "        X_train, X_test, X_newest, y_train, y_test, y_preds = \\\n",
    "            postprocessor.check_shape(X_train, X_test, X_newest, y_train, y_test, y_preds, reshape=params['model_params'][params['model_type']]['reshape'])\n",
    "        test_trade_signals = postprocessor.process_signals(y_test, test_dates, False)\n",
    "        pred_trade_signals = postprocessor.process_signals(y_preds, test_dates, params['filter'])\n",
    "        newest_trade_signals = postprocessor.process_signals(y_pred_newest_filtered, y_newest_date, params['filter'])\n",
    "        \n",
    "        evaluator = Evaluator(params=params)\n",
    "        model_summary, pred_days_difference_results, pred_days_difference_abs_mean, backtesting_report, trade_summary, execution_time, confusion_matrix_info, y_test, y_preds = evaluator.generate_numericale_data(model,\n",
    "                        y_test, y_preds, target_symbol_data, pred_trade_signals, test_trade_signals, execution_time)\n",
    "        \n",
    "        return model_summary, pred_days_difference_results, pred_days_difference_abs_mean, backtesting_report, trade_summary, execution_time, confusion_matrix_info, y_test, y_preds, test_trade_signals, y_pred_newest, pred_trade_signals, newest_trade_signals\n",
    "\n",
    "    def run_2(self, params):\n",
    "        self.set_seed(42)\n",
    "        preprocessor = Preprocessor(params)\n",
    "        train_indices = preprocessor.params['train_indices']\n",
    "        test_indice = preprocessor.params['test_indices']\n",
    "\n",
    "        test_dataset = preprocessor.fetch_stock_data(test_indice, preprocessor.params['start_date'], preprocessor.params['stop_date'])\n",
    "        for single_feature_params in preprocessor.params['features_params']:\n",
    "            feature_type = single_feature_params[\"type\"]\n",
    "            test_dataset = preprocessor.add_feature(test_dataset, feature_type, **single_feature_params)\n",
    "        test_dataset, issues_detected = preprocessor.add_data_cleaner(test_dataset,\n",
    "            clean_type=preprocessor.params['data_cleaning']['clean_type'], strategy=preprocessor.params['data_cleaning']['strategy'])\n",
    "        X_train, y_train, X_test, y_test, _, test_dates = \\\n",
    "            preprocessor.process_data(test_dataset, split_ratio=preprocessor.params['split_ratio'], target_col=preprocessor.params['target_col'],\n",
    "                                    feature_cols=preprocessor.params['feature_cols'], look_back=preprocessor.params['look_back'],\n",
    "                                    predict_steps=preprocessor.params['predict_steps'],\n",
    "                                    train_slide_steps=preprocessor.params['train_slide_steps'],\n",
    "                                    test_slide_steps=preprocessor.params['test_slide_steps'],\n",
    "                                    reshape=preprocessor.params['model_params'][preprocessor.params['model_type']]['reshape'])\n",
    "        X_newest, x_newest_date, y_newest_date = preprocessor.create_x_newest_data(test_dataset, preprocessor.params['look_back'])\n",
    "        X_train, X_val, y_train, y_val = train_test_split(X_train, y_train, test_size=0.2, random_state=42)\n",
    "        target_symbol_data = test_dataset\n",
    "        start_time = time.time()\n",
    "        online_training_losses = []\n",
    "        online_training_acc = []\n",
    "        online_training_val_losses = []\n",
    "        online_training_val_acc = []\n",
    "        y_preds = []\n",
    "\n",
    "        X_train_set = X_train\n",
    "        y_train_set = y_train\n",
    "        # params['training_epoch_num'] = 10\n",
    "        for i in tqdm.tqdm(range(len(X_test))):\n",
    "            model_wrapper = Model(params=params)\n",
    "            input_shape = X_train.shape\n",
    "            model = model_wrapper.create_model(model_wrapper.params['model_type'], input_shape)\n",
    "            history, model = model_wrapper.train_model(model, X_train, y_train, X_val, y_val, model_wrapper.params['apply_weight'])\n",
    "            y_pred = model_wrapper.infer_model(model, X_test[i:i+1])\n",
    "            y_preds.append(y_pred[0])\n",
    "            online_training_losses.append(history['loss'])\n",
    "            online_training_acc.append(history['binary_accuracy'])\n",
    "            online_training_val_losses.append(history['val_loss'])\n",
    "            online_training_val_acc.append(history['val_binary_accuracy'])\n",
    "            single_X_test = X_test[i:i+1]\n",
    "            single_y_test = y_test[i:i+1]\n",
    "            X_train_set = torch.cat((X_train_set[1:], single_X_test), dim=0)\n",
    "            y_train_set = torch.cat((y_train_set[1:], single_y_test), dim=0)\n",
    "            X_train, X_val, y_train, y_val = train_test_split(X_train_set, y_train_set, test_size=0.2, random_state=42)\n",
    "            if preprocessor.params['filter_reverse_trend'] == \"True\":\n",
    "                y_train = preprocessor.change_values_after_first_reverse_point(y_train)\n",
    "                y_val = preprocessor.change_values_after_first_reverse_point(y_val)\n",
    "                y_test = preprocessor.change_values_after_first_reverse_point(y_test)\n",
    "        y_preds = torch.stack(y_preds).detach().numpy()\n",
    "        end_time = time.time()\n",
    "        execution_time = end_time - start_time\n",
    "        y_preds = torch.tensor(y_preds, dtype=torch.float32)\n",
    "        y_preds = preprocessor.change_values_after_first_reverse_point(y_preds)\n",
    "        y_pred_newest = model.forward(X_newest)\n",
    "        y_pred_newest = torch.tensor(y_pred_newest, dtype=torch.float32)\n",
    "        y_pred_newest = preprocessor.change_values_after_first_reverse_point(y_pred_newest)\n",
    "        postprocessor = Postprocesser()\n",
    "        X_train, X_test, X_newest, y_train, y_test, y_preds = \\\n",
    "            postprocessor.check_shape(X_train, X_test, X_newest, y_train, y_test, y_preds, reshape=params['model_params'][params['model_type']]['reshape'])\n",
    "        test_trade_signals = postprocessor.process_signals(y_test, test_dates, False)\n",
    "        pred_trade_signals = postprocessor.process_signals(y_preds, test_dates, params['filter'])\n",
    "        newest_trade_signals = postprocessor.process_signals(y_pred_newest, y_newest_date, False)\n",
    "        evaluator = Evaluator(params=params)\n",
    "        model_summary, pred_days_difference_results, pred_days_difference_abs_mean, backtesting_report, trade_summary, execution_time, confusion_matrix_info, y_test, y_preds = evaluator.generate_numericale_data(model,\n",
    "                        y_test, y_preds, target_symbol_data, pred_trade_signals, test_trade_signals, execution_time)\n",
    "        \n",
    "        return model_summary, pred_days_difference_results, pred_days_difference_abs_mean, backtesting_report, trade_summary, execution_time, confusion_matrix_info, y_test, y_preds, test_trade_signals, pred_trade_signals, newest_trade_signals\n",
    "\n"
   ]
  },
  {
   "cell_type": "code",
   "execution_count": 2,
   "metadata": {},
   "outputs": [],
   "source": [
    "with open('parameters.json', 'r') as f:\n",
    "    params = json.load(f)"
   ]
  },
  {
   "cell_type": "code",
   "execution_count": 3,
   "metadata": {},
   "outputs": [
    {
     "name": "stdout",
     "output_type": "stream",
     "text": [
      "[*********************100%***********************]  1 of 1 completed\n"
     ]
    },
    {
     "name": "stderr",
     "output_type": "stream",
     "text": [
      "c:\\Users\\e4903\\Desktop\\code\\2023_hw\\web\\saferTrader\\stock_project\\revpred\\lib\\reversePrediction\\preprocessor\\preprocessor_pytorch.py:59: SettingWithCopyWarning: \n",
      "A value is trying to be set on a copy of a slice from a DataFrame\n",
      "\n",
      "See the caveats in the documentation: https://pandas.pydata.org/pandas-docs/stable/user_guide/indexing.html#returning-a-view-versus-a-copy\n",
      "  data['Trend'].iloc[i:i + trend_days] = 0 # up trend\n",
      "c:\\Users\\e4903\\Desktop\\code\\2023_hw\\web\\saferTrader\\stock_project\\revpred\\lib\\reversePrediction\\preprocessor\\preprocessor_pytorch.py:61: SettingWithCopyWarning: \n",
      "A value is trying to be set on a copy of a slice from a DataFrame\n",
      "\n",
      "See the caveats in the documentation: https://pandas.pydata.org/pandas-docs/stable/user_guide/indexing.html#returning-a-view-versus-a-copy\n",
      "  data['Trend'].iloc[i:i + trend_days] = 1 # down trend\n"
     ]
    },
    {
     "name": "stdout",
     "output_type": "stream",
     "text": [
      "[*********************100%***********************]  1 of 1 completed\n",
      "[*********************100%***********************]  1 of 1 completed\n",
      "[*********************100%***********************]  1 of 1 completed\n",
      "[*********************100%***********************]  1 of 1 completed\n",
      "[*********************100%***********************]  1 of 1 completed\n"
     ]
    },
    {
     "name": "stderr",
     "output_type": "stream",
     "text": [
      "c:\\Users\\e4903\\Desktop\\code\\2023_hw\\web\\saferTrader\\stock_project\\revpred\\lib\\reversePrediction\\preprocessor\\preprocessor_pytorch.py:59: SettingWithCopyWarning: \n",
      "A value is trying to be set on a copy of a slice from a DataFrame\n",
      "\n",
      "See the caveats in the documentation: https://pandas.pydata.org/pandas-docs/stable/user_guide/indexing.html#returning-a-view-versus-a-copy\n",
      "  data['Trend'].iloc[i:i + trend_days] = 0 # up trend\n",
      "c:\\Users\\e4903\\Desktop\\code\\2023_hw\\web\\saferTrader\\stock_project\\revpred\\lib\\reversePrediction\\preprocessor\\preprocessor_pytorch.py:61: SettingWithCopyWarning: \n",
      "A value is trying to be set on a copy of a slice from a DataFrame\n",
      "\n",
      "See the caveats in the documentation: https://pandas.pydata.org/pandas-docs/stable/user_guide/indexing.html#returning-a-view-versus-a-copy\n",
      "  data['Trend'].iloc[i:i + trend_days] = 1 # down trend\n"
     ]
    },
    {
     "name": "stdout",
     "output_type": "stream",
     "text": [
      "[*********************100%***********************]  1 of 1 completed\n",
      "[*********************100%***********************]  1 of 1 completed\n",
      "[*********************100%***********************]  1 of 1 completed\n",
      "[*********************100%***********************]  1 of 1 completed\n",
      "[*********************100%***********************]  1 of 1 completed\n"
     ]
    },
    {
     "name": "stderr",
     "output_type": "stream",
     "text": [
      "c:\\Users\\e4903\\Desktop\\code\\2023_hw\\web\\saferTrader\\stock_project\\revpred\\lib\\reversePrediction\\preprocessor\\preprocessor_pytorch.py:59: SettingWithCopyWarning: \n",
      "A value is trying to be set on a copy of a slice from a DataFrame\n",
      "\n",
      "See the caveats in the documentation: https://pandas.pydata.org/pandas-docs/stable/user_guide/indexing.html#returning-a-view-versus-a-copy\n",
      "  data['Trend'].iloc[i:i + trend_days] = 0 # up trend\n",
      "c:\\Users\\e4903\\Desktop\\code\\2023_hw\\web\\saferTrader\\stock_project\\revpred\\lib\\reversePrediction\\preprocessor\\preprocessor_pytorch.py:61: SettingWithCopyWarning: \n",
      "A value is trying to be set on a copy of a slice from a DataFrame\n",
      "\n",
      "See the caveats in the documentation: https://pandas.pydata.org/pandas-docs/stable/user_guide/indexing.html#returning-a-view-versus-a-copy\n",
      "  data['Trend'].iloc[i:i + trend_days] = 1 # down trend\n"
     ]
    },
    {
     "name": "stdout",
     "output_type": "stream",
     "text": [
      "[*********************100%***********************]  1 of 1 completed\n",
      "[*********************100%***********************]  1 of 1 completed\n",
      "[*********************100%***********************]  1 of 1 completed\n",
      "[*********************100%***********************]  1 of 1 completed\n",
      "[*********************100%***********************]  1 of 1 completed\n"
     ]
    },
    {
     "name": "stderr",
     "output_type": "stream",
     "text": [
      "c:\\Users\\e4903\\Desktop\\code\\2023_hw\\web\\saferTrader\\stock_project\\revpred\\lib\\reversePrediction\\preprocessor\\preprocessor_pytorch.py:59: SettingWithCopyWarning: \n",
      "A value is trying to be set on a copy of a slice from a DataFrame\n",
      "\n",
      "See the caveats in the documentation: https://pandas.pydata.org/pandas-docs/stable/user_guide/indexing.html#returning-a-view-versus-a-copy\n",
      "  data['Trend'].iloc[i:i + trend_days] = 0 # up trend\n",
      "c:\\Users\\e4903\\Desktop\\code\\2023_hw\\web\\saferTrader\\stock_project\\revpred\\lib\\reversePrediction\\preprocessor\\preprocessor_pytorch.py:61: SettingWithCopyWarning: \n",
      "A value is trying to be set on a copy of a slice from a DataFrame\n",
      "\n",
      "See the caveats in the documentation: https://pandas.pydata.org/pandas-docs/stable/user_guide/indexing.html#returning-a-view-versus-a-copy\n",
      "  data['Trend'].iloc[i:i + trend_days] = 1 # down trend\n"
     ]
    },
    {
     "name": "stdout",
     "output_type": "stream",
     "text": [
      "[*********************100%***********************]  1 of 1 completed\n",
      "[*********************100%***********************]  1 of 1 completed\n",
      "[*********************100%***********************]  1 of 1 completed\n",
      "[*********************100%***********************]  1 of 1 completed\n",
      "[*********************100%***********************]  1 of 1 completed\n"
     ]
    },
    {
     "name": "stderr",
     "output_type": "stream",
     "text": [
      "c:\\Users\\e4903\\Desktop\\code\\2023_hw\\web\\saferTrader\\stock_project\\revpred\\lib\\reversePrediction\\preprocessor\\preprocessor_pytorch.py:59: SettingWithCopyWarning: \n",
      "A value is trying to be set on a copy of a slice from a DataFrame\n",
      "\n",
      "See the caveats in the documentation: https://pandas.pydata.org/pandas-docs/stable/user_guide/indexing.html#returning-a-view-versus-a-copy\n",
      "  data['Trend'].iloc[i:i + trend_days] = 0 # up trend\n",
      "c:\\Users\\e4903\\Desktop\\code\\2023_hw\\web\\saferTrader\\stock_project\\revpred\\lib\\reversePrediction\\preprocessor\\preprocessor_pytorch.py:61: SettingWithCopyWarning: \n",
      "A value is trying to be set on a copy of a slice from a DataFrame\n",
      "\n",
      "See the caveats in the documentation: https://pandas.pydata.org/pandas-docs/stable/user_guide/indexing.html#returning-a-view-versus-a-copy\n",
      "  data['Trend'].iloc[i:i + trend_days] = 1 # down trend\n"
     ]
    },
    {
     "name": "stdout",
     "output_type": "stream",
     "text": [
      "[*********************100%***********************]  1 of 1 completed\n",
      "[*********************100%***********************]  1 of 1 completed\n",
      "[*********************100%***********************]  1 of 1 completed\n",
      "[*********************100%***********************]  1 of 1 completed\n",
      "Training set shape: torch.Size([345, 32, 30])\n",
      "Validation set shape: torch.Size([87, 32, 30])\n"
     ]
    }
   ],
   "source": [
    "rp = ReversePrediction() \n",
    "rp.set_seed(42)\n",
    "\n",
    "preprocessor = Preprocessor(params)\n",
    "X_train, y_train, X_val, y_val, X_test, y_test, test_dates, X_newest, x_newest_date, y_newest_date, target_symbol_data = preprocessor.get_multiple_data()\n"
   ]
  },
  {
   "cell_type": "code",
   "execution_count": 4,
   "metadata": {},
   "outputs": [
    {
     "name": "stderr",
     "output_type": "stream",
     "text": [
      "  5%|▌         | 52/1000 [00:00<00:12, 77.49it/s]\n"
     ]
    }
   ],
   "source": [
    "start_time = time.time()\n",
    "model_wrapper = Model(params=params)\n",
    "model, history, y_preds, online_training_losses, online_training_acc = \\\n",
    "    model_wrapper.run(X_train, y_train, X_test, y_test, X_val, y_val)\n",
    "end_time = time.time()\n",
    "execution_time = end_time - start_time\n"
   ]
  },
  {
   "cell_type": "code",
   "execution_count": 5,
   "metadata": {},
   "outputs": [],
   "source": [
    "y_preds = torch.tensor(y_preds, dtype=torch.float32)\n",
    "y_preds = preprocessor.change_values_after_first_reverse_point(y_preds)\n"
   ]
  },
  {
   "cell_type": "code",
   "execution_count": 6,
   "metadata": {},
   "outputs": [
    {
     "name": "stderr",
     "output_type": "stream",
     "text": [
      "C:\\Users\\e4903\\AppData\\Local\\Temp\\ipykernel_17364\\2422567768.py:2: UserWarning: To copy construct from a tensor, it is recommended to use sourceTensor.clone().detach() or sourceTensor.clone().detach().requires_grad_(True), rather than torch.tensor(sourceTensor).\n",
      "  y_pred_newest = torch.tensor(y_pred_newest, dtype=torch.float32)\n"
     ]
    }
   ],
   "source": [
    "y_pred_newest = model.forward(X_newest)\n",
    "y_pred_newest = torch.tensor(y_pred_newest, dtype=torch.float32)\n",
    "y_pred_newest_filtered = preprocessor.change_values_after_first_reverse_point(y_pred_newest)"
   ]
  },
  {
   "cell_type": "code",
   "execution_count": 7,
   "metadata": {},
   "outputs": [
    {
     "data": {
      "text/plain": [
       "tensor([[[0.1364, 0.8623],\n",
       "         [0.7900, 0.2096],\n",
       "         [0.9173, 0.0824],\n",
       "         [0.9353, 0.0650],\n",
       "         [0.9684, 0.0318],\n",
       "         [0.9729, 0.0271],\n",
       "         [0.9677, 0.0316],\n",
       "         [0.9706, 0.0293]]])"
      ]
     },
     "execution_count": 7,
     "metadata": {},
     "output_type": "execute_result"
    }
   ],
   "source": [
    "y_pred_newest"
   ]
  },
  {
   "cell_type": "code",
   "execution_count": 8,
   "metadata": {},
   "outputs": [
    {
     "data": {
      "image/png": "[encoded data removed]",
      "text/plain": [
       "<Figure size 640x480 with 1 Axes>"
      ]
     },
     "metadata": {},
     "output_type": "display_data"
    }
   ],
   "source": [
    "import matplotlib.pyplot as plt\n",
    "\n",
    "# 定義標籤和機率值\n",
    "labels = ['Label 1', 'Label 2']\n",
    "\n",
    "# 將機率值分成兩個子列表，分別對應兩個標籤\n",
    "prob_label1 = y_pred_newest.detach().numpy()[0, :, 0]\n",
    "prob_label2 = y_pred_newest.detach().numpy()[0, :, 1]\n",
    "\n",
    "# 建立一個figure和一個子圖\n",
    "fig, ax = plt.subplots()\n",
    "\n",
    "# 繪製折線圖\n",
    "\n",
    "ax.plot(prob_label1, label=labels[0])\n",
    "ax.plot(prob_label2, label=labels[1])\n",
    "\n",
    "# 添加標題和圖例\n",
    "ax.set_title('Probabilities')\n",
    "ax.legend()\n",
    "\n",
    "# 顯示圖形\n",
    "plt.show()\n"
   ]
  },
  {
   "cell_type": "code",
   "execution_count": 9,
   "metadata": {},
   "outputs": [
    {
     "data": {
      "image/png": "[encoded data removed]",
      "text/plain": [
       "<Figure size 1000x1000 with 2 Axes>"
      ]
     },
     "metadata": {},
     "output_type": "display_data"
    }
   ],
   "source": [
    "import matplotlib.pyplot as plt\n",
    "\n",
    "# Create a figure with two vertical subplots\n",
    "fig, axs = plt.subplots(2, 1, figsize=(10, 10))\n",
    "\n",
    "# Plot the \"Close\" column in the first subplot\n",
    "axs[0].plot(target_symbol_data['Close'][0:100])\n",
    "axs[0].set_xlabel('Time')\n",
    "axs[0].set_ylabel('Close')\n",
    "axs[0].set_title('Close Prices')\n",
    "\n",
    "# Plot the \"Trend\" column in the second subplot\n",
    "axs[1].plot(target_symbol_data['Trend'][0:100])\n",
    "axs[1].set_xlabel('Time')\n",
    "axs[1].set_ylabel('Trend')\n",
    "axs[1].set_title('Trend')\n",
    "\n",
    "# Adjust the spacing between subplots\n",
    "plt.tight_layout()\n",
    "\n",
    "# Show the plot\n",
    "plt.show()\n"
   ]
  },
  {
   "cell_type": "code",
   "execution_count": 10,
   "metadata": {},
   "outputs": [
    {
     "data": {
      "text/plain": [
       "(torch.Size([184, 8, 2]), torch.Size([184, 8, 2]), (184, 8))"
      ]
     },
     "execution_count": 10,
     "metadata": {},
     "output_type": "execute_result"
    }
   ],
   "source": [
    "y_test.shape, y_preds.shape, test_dates.shape"
   ]
  },
  {
   "cell_type": "code",
   "execution_count": 11,
   "metadata": {},
   "outputs": [],
   "source": [
    "postprocessor = Postprocesser()\n",
    "X_train, X_test, X_newest, y_train, y_test, y_preds = \\\n",
    "    postprocessor.check_shape(X_train, X_test, X_newest, y_train, y_test, y_preds, reshape=params['model_params'][params['model_type']]['reshape'])\n",
    "test_trade_signals = postprocessor.process_signals(y_test, test_dates, False)\n",
    "pred_trade_signals = postprocessor.process_signals(y_preds, test_dates, params['filter'])\n",
    "newest_trade_signals = postprocessor.process_signals(y_pred_newest, y_newest_date, False)"
   ]
  },
  {
   "cell_type": "code",
   "execution_count": 12,
   "metadata": {},
   "outputs": [
    {
     "data": {
      "text/plain": [
       "tensor([[[0.1364, 0.8623],\n",
       "         [0.7900, 0.2096],\n",
       "         [0.9173, 0.0824],\n",
       "         [0.9353, 0.0650],\n",
       "         [0.9684, 0.0318],\n",
       "         [0.9729, 0.0271],\n",
       "         [0.9677, 0.0316],\n",
       "         [0.9706, 0.0293]]])"
      ]
     },
     "execution_count": 12,
     "metadata": {},
     "output_type": "execute_result"
    }
   ],
   "source": [
    "y_pred_newest"
   ]
  },
  {
   "cell_type": "code",
   "execution_count": 13,
   "metadata": {},
   "outputs": [],
   "source": [
    "max_indices = torch.argmax(y_pred_newest, dim=-1)"
   ]
  },
  {
   "cell_type": "code",
   "execution_count": 14,
   "metadata": {},
   "outputs": [
    {
     "data": {
      "text/plain": [
       "tensor([[1, 0, 0, 0, 0, 0, 0, 0]])"
      ]
     },
     "execution_count": 14,
     "metadata": {},
     "output_type": "execute_result"
    }
   ],
   "source": [
    "max_indices"
   ]
  },
  {
   "cell_type": "code",
   "execution_count": 15,
   "metadata": {},
   "outputs": [],
   "source": [
    "newest_trade_signals['up_trend'] = y_pred_newest.detach().numpy()[0, :, 0]\n",
    "newest_trade_signals['down_trend'] = y_pred_newest.detach().numpy()[0, :, 1]"
   ]
  },
  {
   "cell_type": "code",
   "execution_count": 16,
   "metadata": {},
   "outputs": [
    {
     "data": {
      "text/html": [
       "<div>\n",
       "<style scoped>\n",
       "    .dataframe tbody tr th:only-of-type {\n",
       "        vertical-align: middle;\n",
       "    }\n",
       "\n",
       "    .dataframe tbody tr th {\n",
       "        vertical-align: top;\n",
       "    }\n",
       "\n",
       "    .dataframe thead th {\n",
       "        text-align: right;\n",
       "    }\n",
       "</style>\n",
       "<table border=\"1\" class=\"dataframe\">\n",
       "  <thead>\n",
       "    <tr style=\"text-align: right;\">\n",
       "      <th></th>\n",
       "      <th>Date</th>\n",
       "      <th>Signal</th>\n",
       "      <th>up_trend</th>\n",
       "      <th>down_trend</th>\n",
       "    </tr>\n",
       "  </thead>\n",
       "  <tbody>\n",
       "    <tr>\n",
       "      <th>0</th>\n",
       "      <td>2021-01-04</td>\n",
       "      <td></td>\n",
       "      <td>0.136399</td>\n",
       "      <td>0.862313</td>\n",
       "    </tr>\n",
       "    <tr>\n",
       "      <th>1</th>\n",
       "      <td>2021-01-05</td>\n",
       "      <td>Sell (first) (last)</td>\n",
       "      <td>0.790043</td>\n",
       "      <td>0.209632</td>\n",
       "    </tr>\n",
       "    <tr>\n",
       "      <th>2</th>\n",
       "      <td>2021-01-06</td>\n",
       "      <td></td>\n",
       "      <td>0.917264</td>\n",
       "      <td>0.082432</td>\n",
       "    </tr>\n",
       "    <tr>\n",
       "      <th>3</th>\n",
       "      <td>2021-01-07</td>\n",
       "      <td></td>\n",
       "      <td>0.935257</td>\n",
       "      <td>0.064983</td>\n",
       "    </tr>\n",
       "    <tr>\n",
       "      <th>4</th>\n",
       "      <td>2021-01-08</td>\n",
       "      <td></td>\n",
       "      <td>0.968364</td>\n",
       "      <td>0.031773</td>\n",
       "    </tr>\n",
       "    <tr>\n",
       "      <th>5</th>\n",
       "      <td>2021-01-11</td>\n",
       "      <td></td>\n",
       "      <td>0.972926</td>\n",
       "      <td>0.027097</td>\n",
       "    </tr>\n",
       "    <tr>\n",
       "      <th>6</th>\n",
       "      <td>2021-01-12</td>\n",
       "      <td></td>\n",
       "      <td>0.967720</td>\n",
       "      <td>0.031627</td>\n",
       "    </tr>\n",
       "    <tr>\n",
       "      <th>7</th>\n",
       "      <td>2021-01-13</td>\n",
       "      <td></td>\n",
       "      <td>0.970630</td>\n",
       "      <td>0.029273</td>\n",
       "    </tr>\n",
       "  </tbody>\n",
       "</table>\n",
       "</div>"
      ],
      "text/plain": [
       "        Date               Signal  up_trend  down_trend\n",
       "0 2021-01-04                       0.136399    0.862313\n",
       "1 2021-01-05  Sell (first) (last)  0.790043    0.209632\n",
       "2 2021-01-06                       0.917264    0.082432\n",
       "3 2021-01-07                       0.935257    0.064983\n",
       "4 2021-01-08                       0.968364    0.031773\n",
       "5 2021-01-11                       0.972926    0.027097\n",
       "6 2021-01-12                       0.967720    0.031627\n",
       "7 2021-01-13                       0.970630    0.029273"
      ]
     },
     "execution_count": 16,
     "metadata": {},
     "output_type": "execute_result"
    }
   ],
   "source": [
    "newest_trade_signals"
   ]
  },
  {
   "cell_type": "code",
   "execution_count": 17,
   "metadata": {},
   "outputs": [],
   "source": [
    "evaluator = Evaluator(params=params)\n",
    "model_summary, pred_days_difference_results, pred_days_difference_abs_mean, backtesting_report, trade_summary, execution_time, confusion_matrix_info, y_test, y_preds = evaluator.generate_numericale_data(model,\n",
    "                y_test, y_preds, target_symbol_data, pred_trade_signals, test_trade_signals, execution_time)\n",
    "\n"
   ]
  },
  {
   "cell_type": "code",
   "execution_count": 18,
   "metadata": {},
   "outputs": [],
   "source": [
    "# with open('parameters.json', 'r') as f:\n",
    "#     params = json.load(f)\n",
    "    \n",
    "# rp = ReversePrediction()\n",
    "# model_summary, pred_days_difference_results, pred_days_difference_abs_mean, backtesting_report, trade_summary, execution_time, confusion_matrix_info, y_test, y_preds, test_trade_signals, y_pred_newest, pred_trade_signals, newest_trade_signals\\\n",
    "#     = rp.run(params)\n",
    "confusion_matrix_info_json = json.dumps(confusion_matrix_info)\n",
    "model_summary_json = json.dumps(model_summary)\n",
    "backtesting_report_json = json.dumps(backtesting_report)\n",
    "pred_days_difference_results_json = pred_days_difference_results.to_json()\n",
    "trade_summary_json = json.dumps(trade_summary)\n",
    "execution_time_json = json.dumps(execution_time)\n",
    "\n",
    "response = {\n",
    "    'msg': 'Received!',\n",
    "    'usingData': params,\n",
    "    'confusion_matrix_info': confusion_matrix_info_json,\n",
    "    'model_summary': model_summary_json,\n",
    "    'backtesting_report': backtesting_report_json,\n",
    "    'pred_days_difference_results': pred_days_difference_results_json,\n",
    "    'trade_summary': trade_summary_json,\n",
    "    'execution_time': execution_time_json,\n",
    "}\n"
   ]
  },
  {
   "cell_type": "code",
   "execution_count": 19,
   "metadata": {},
   "outputs": [
    {
     "data": {
      "text/plain": [
       "{'msg': 'Received!',\n",
       " 'usingData': {'train_indices': ['^GSPC', '^IXIC', '^DJI', '^RUA'],\n",
       "  'test_indices': '^GSPC',\n",
       "  'start_date': '2001-01-01',\n",
       "  'stop_date': '2021-01-01',\n",
       "  'features_params': [{'type': 'Trend',\n",
       "    'method': 'MA',\n",
       "    'oder_days': 20,\n",
       "    'ma_days': 20,\n",
       "    'trend_days': 5},\n",
       "   {'type': 'MACD', 'fastperiod': 5, 'slowperiod': 10, 'signalperiod': 9},\n",
       "   {'type': 'ROC', 'trend_days': 5},\n",
       "   {'type': 'Stochastic Oscillator', 'trend_days': 5},\n",
       "   {'type': 'CCI', 'timeperiod': 14},\n",
       "   {'type': 'RSI', 'timeperiod': 14},\n",
       "   {'type': 'VMA', 'timeperiod': 20},\n",
       "   {'type': 'pctChange'},\n",
       "   {'type': '13W Treasury Yield',\n",
       "    'start_date': '2001-01-01',\n",
       "    'end_date': '2021-01-01'},\n",
       "   {'type': '5Y Treasury Yield',\n",
       "    'start_date': '2001-01-01',\n",
       "    'end_date': '2021-01-01'},\n",
       "   {'type': '10Y Treasury Yield',\n",
       "    'start_date': '2001-01-01',\n",
       "    'end_date': '2021-01-01'},\n",
       "   {'type': '30Y Treasury Yield',\n",
       "    'start_date': '2001-01-01',\n",
       "    'end_date': '2021-01-01'},\n",
       "   {'type': 'Bollinger Bands', 'timeperiod': 20, 'nbdevup': 2, 'nbdevdn': 2},\n",
       "   {'type': 'ATR', 'timeperiod': 14},\n",
       "   {'type': 'OBV'},\n",
       "   {'type': 'Parabolic SAR', 'start': 0.02, 'increment': 0.02, 'maximum': 0.2},\n",
       "   {'type': 'MOM', 'timeperiod': 10},\n",
       "   {'type': 'Williams %R', 'lookback_period': 14},\n",
       "   {'type': 'Chaikin MF', 'timeperiod': 20}],\n",
       "  'data_cleaning': {'clean_type': 'MissingData', 'strategy': 'auto'},\n",
       "  'split_ratio': 0.7,\n",
       "  'target_col': 'Trend',\n",
       "  'feature_cols': ['Open',\n",
       "   'High',\n",
       "   'Low',\n",
       "   'Close',\n",
       "   'Adj Close',\n",
       "   'Volume',\n",
       "   'Trend',\n",
       "   'MACD_dif',\n",
       "   'MACD_dem',\n",
       "   'MACD_histogram',\n",
       "   'ROC',\n",
       "   'StoK',\n",
       "   'StoD',\n",
       "   'CCI',\n",
       "   'RSI',\n",
       "   'VMA',\n",
       "   'pctChange',\n",
       "   '13W Treasury Yield',\n",
       "   '5Y Treasury Yield',\n",
       "   '10Y Treasury Yield',\n",
       "   '30Y Treasury Yield',\n",
       "   'upperband',\n",
       "   'middleband',\n",
       "   'lowerband',\n",
       "   'ATR',\n",
       "   'OBV',\n",
       "   'Parabolic SAR',\n",
       "   'MOM',\n",
       "   'Williams %R',\n",
       "   'Chaikin MF'],\n",
       "  'look_back': 32,\n",
       "  'predict_steps': 8,\n",
       "  'train_slide_steps': 32,\n",
       "  'test_slide_steps': 8,\n",
       "  'model_params': {'LeNet': {'conv_1_in_channels': 19,\n",
       "    'conv_1_out_channels': 8,\n",
       "    'conv_1_kernel': 3,\n",
       "    'conv_1_padding': 1,\n",
       "    'MaxPool2d_1_kernel_size': 2,\n",
       "    'fc_1_out_features': 512,\n",
       "    'reshape': 'False'},\n",
       "   'LeNet_2': {'conv_1_in_channels': 19,\n",
       "    'conv_1_out_channels': 6,\n",
       "    'conv_1_kernel': 3,\n",
       "    'conv_1_padding': 1,\n",
       "    'MaxPool2d_1_kernel_size': 2,\n",
       "    'conv_2_out_channels': 8,\n",
       "    'conv_2_kernel': 3,\n",
       "    'conv_2_padding': 1,\n",
       "    'MaxPool2d_2_kernel_size': 2,\n",
       "    'fc_1_out_features': 512,\n",
       "    'reshape': 'False'},\n",
       "   'RNN': {'hidden_size': 32,\n",
       "    'num_layers': 1,\n",
       "    'dropout': 0.2,\n",
       "    'reshape': 'False'},\n",
       "   'LSTM': {'hidden_size': 32,\n",
       "    'num_layers': 1,\n",
       "    'dropout': 0.2,\n",
       "    'reshape': 'False'},\n",
       "   'CNN_LSTM': {'conv_1_in_channels': 19,\n",
       "    'conv_1_out_channels': 6,\n",
       "    'conv_1_kernel': 3,\n",
       "    'conv_1_padding': 1,\n",
       "    'MaxPool2d_1_kernel_size': 2,\n",
       "    'conv_2_out_channels': 8,\n",
       "    'conv_2_kernel': 3,\n",
       "    'conv_2_padding': 1,\n",
       "    'MaxPool2d_2_kernel_size': 2,\n",
       "    'fc_1_out_features': 512,\n",
       "    'hidden_size': 32,\n",
       "    'num_layers': 1,\n",
       "    'dropout': 0.2,\n",
       "    'reshape': 'True'},\n",
       "   'DNN_5layers': {'reshape': 'False'},\n",
       "   'DummyClassifier': {'reshape': 'False'}},\n",
       "  'model_type': 'DNN_5layers',\n",
       "  'training_epoch_num': 1000,\n",
       "  'online_training_epoch_num': 10,\n",
       "  'learning_rate': 0.001,\n",
       "  'online_train_learning_rate': 0.001,\n",
       "  'patience': 10,\n",
       "  'min_delta': 0.01,\n",
       "  'apply_weight': 'True',\n",
       "  'data_update_mode': 'append',\n",
       "  'filter': 'False',\n",
       "  'trade_strategy': 'all',\n",
       "  'filter_reverse_trend': 'True',\n",
       "  'trained_model_path': 'models/trained_model.pt',\n",
       "  'online_trained_model_path': 'models/online_trained_model.pt',\n",
       "  'plot_training_curve_save_path': 'plots/plot_training_curve.png',\n",
       "  'online_training_curve_save_path': 'plots/online_training_curve.png',\n",
       "  'confusion_matrix_save_path': 'plots/confusion_matrix.png',\n",
       "  'predictions_save_path': 'plots/predictions.png',\n",
       "  'filtered_predictions_save_path': 'plots/filtered_predictions.png',\n",
       "  'pred_trade_signals_plot_save_path': 'plots/pred_trade_signals_plot.png',\n",
       "  'test_trade_signals_plot_save_path': 'plots/test_trade_signals_plot.png',\n",
       "  'pred_days_difference_bar_chart_save_path': 'plots/pred_days_difference_bar_chart.png',\n",
       "  'roc_pr_curve_save_path': 'plots/roc_pr_curve.png',\n",
       "  'report_save_path': 'reports/report.html',\n",
       "  'summary_save_path': 'reports/summary.json'},\n",
       " 'confusion_matrix_info': '{\"TP\": 903, \"FP\": 110, \"FN\": 149, \"TN\": 310, \"Accuracy\": 0.8240489130434783, \"Precision\": 0.7982301285533224, \"Recall\": 0.7833964560925829, \"F1 Score\": 0.7899616281984536}',\n",
       " 'model_summary': '\"ModelDNN_5layers(\\\\n  (fc1): Linear(in_features=960, out_features=256, bias=True)\\\\n  (fc2): Linear(in_features=256, out_features=128, bias=True)\\\\n  (fc3): Linear(in_features=128, out_features=64, bias=True)\\\\n  (fc4): Linear(in_features=64, out_features=32, bias=True)\\\\n  (fc5): Linear(in_features=32, out_features=16, bias=True)\\\\n  (ln1): LayerNorm((256,), eps=1e-05, elementwise_affine=True)\\\\n  (ln2): LayerNorm((128,), eps=1e-05, elementwise_affine=True)\\\\n  (ln3): LayerNorm((64,), eps=1e-05, elementwise_affine=True)\\\\n  (ln4): LayerNorm((32,), eps=1e-05, elementwise_affine=True)\\\\n  (ln5): LayerNorm((16,), eps=1e-05, elementwise_affine=True)\\\\n  (dropout): Dropout(p=0.5, inplace=False)\\\\n), \\\\nNumber of parameter: 290768\"',\n",
       " 'backtesting_report': '{\"sharpe_ratio\": {\"sharperatio\": -0.71348068571934}, \"drawdown\": {\"len\": 1333, \"drawdown\": 38.95467020525796, \"moneydown\": 3993.815437011721, \"max\": {\"len\": 1333, \"drawdown\": 46.05161294931525, \"moneydown\": 4721.427282714847}}, \"trade_analyzer\": {\"total\": {\"total\": 59, \"open\": 1, \"closed\": 58}, \"streak\": {\"won\": {\"current\": 0, \"longest\": 3}, \"lost\": {\"current\": 1, \"longest\": 3}}, \"pnl\": {\"gross\": {\"total\": -221.51806640625, \"average\": -3.8192770070043105}, \"net\": {\"total\": -4185.187883300782, \"average\": -72.15841178104797}}, \"won\": {\"total\": 26, \"pnl\": {\"total\": 2968.743565673828, \"average\": 114.18244483360877, \"max\": 404.6912744140625}}, \"lost\": {\"total\": 32, \"pnl\": {\"total\": -7153.931448974608, \"average\": -223.5603577804565, \"max\": -759.9837841796875}}, \"long\": {\"total\": 29, \"pnl\": {\"total\": -335.9042407226563, \"average\": -11.58290485250539, \"won\": {\"total\": 1795.0550366210941, \"average\": 99.725279812283, \"max\": 371.9084033203125}, \"lost\": {\"total\": -2130.95927734375, \"average\": -193.72357066761361, \"max\": -573.5562841796875}}, \"won\": 18, \"lost\": 11}, \"short\": {\"total\": 29, \"pnl\": {\"total\": -3849.283642578125, \"average\": -132.7339187095905, \"won\": {\"total\": 1173.6885290527343, \"average\": 146.7110661315918, \"max\": 404.6912744140625}, \"lost\": {\"total\": -5022.9721716308595, \"average\": -239.18915103004093, \"max\": -759.9837841796875}}, \"won\": 8, \"lost\": 21}, \"len\": {\"total\": 1392, \"average\": 24.0, \"max\": 88, \"min\": 1, \"won\": {\"total\": 343, \"average\": 13.192307692307692, \"max\": 24, \"min\": 7}, \"lost\": {\"total\": 1049, \"average\": 32.78125, \"max\": 88, \"min\": 1}, \"long\": {\"total\": 412, \"average\": 14.206896551724139, \"max\": 48, \"min\": 7, \"won\": {\"total\": 215, \"average\": 11.944444444444445, \"max\": 24, \"min\": 7}, \"lost\": {\"total\": 197, \"average\": 17.90909090909091, \"max\": 48, \"min\": 7}}, \"short\": {\"total\": 980, \"average\": 33.793103448275865, \"max\": 88, \"min\": 1, \"won\": {\"total\": 128, \"average\": 16.0, \"max\": 24, \"min\": 8}, \"lost\": {\"total\": 852, \"average\": 40.57142857142857, \"max\": 88, \"min\": 1}}}}, \"final_value\": 6258.653435058592, \"pnl\": -3741.3465649414084, \"pnl_pct\": -37.413465649414086, \"total_return\": 0.6258653435058592}',\n",
       " 'pred_days_difference_results': '{\"Date\":{\"8\":1426118400000,\"16\":1427155200000,\"24\":1428278400000,\"32\":1429142400000,\"48\":1431043200000,\"56\":1432080000000,\"72\":1434067200000,\"96\":1437091200000,\"112\":1439164800000,\"120\":1440028800000,\"128\":1441065600000,\"144\":1443052800000,\"200\":1450051200000,\"248\":1456272000000,\"304\":1463097600000,\"312\":1464134400000,\"336\":1467158400000,\"344\":1468281600000,\"384\":1473206400000,\"408\":1476144000000,\"424\":1478044800000,\"432\":1479081600000,\"472\":1484179200000,\"480\":1485302400000,\"520\":1490227200000,\"528\":1491264000000,\"560\":1495152000000,\"568\":1496275200000,\"569\":1496361600000,\"576\":1497312000000,\"624\":1503273600000,\"640\":1505260800000,\"688\":1511136000000,\"696\":1512086400000,\"744\":1518393600000,\"760\":1520380800000,\"776\":1522281600000,\"800\":1525305600000,\"825\":1528416000000,\"832\":1529366400000,\"840\":1530230400000,\"848\":1531353600000,\"912\":1539216000000,\"936\":1542153600000,\"960\":1545264000000,\"976\":1547510400000,\"1017\":1552608000000,\"1024\":1553558400000,\"1056\":1557446400000,\"1080\":1560470400000,\"1120\":1565568000000,\"1136\":1567555200000,\"1160\":1570492800000,\"1168\":1571356800000,\"1256\":1582675200000,\"1288\":1586736000000,\"1345\":1593648000000,\"1352\":1594684800000,\"1400\":1600646400000,\"1408\":1601510400000},\"Signal\":{\"8\":\"Buy\",\"16\":\"Sell\",\"24\":\"Buy\",\"32\":\"Sell\",\"48\":\"Buy\",\"56\":\"Sell\",\"72\":\"Buy\",\"96\":\"Sell\",\"112\":\"Buy\",\"120\":\"Sell\",\"128\":\"Buy\",\"144\":\"Sell\",\"200\":\"Buy\",\"248\":\"Sell\",\"304\":\"Buy\",\"312\":\"Sell\",\"336\":\"Buy\",\"344\":\"Sell\",\"384\":\"Buy\",\"408\":\"Sell\",\"424\":\"Buy\",\"432\":\"Sell\",\"472\":\"Buy\",\"480\":\"Sell\",\"520\":\"Buy\",\"528\":\"Sell\",\"560\":\"Buy\",\"568\":\"Sell\",\"569\":\"Buy\",\"576\":\"Sell\",\"624\":\"Buy\",\"640\":\"Sell\",\"688\":\"Buy\",\"696\":\"Sell\",\"744\":\"Buy\",\"760\":\"Sell\",\"776\":\"Buy\",\"800\":\"Sell\",\"825\":\"Buy\",\"832\":\"Sell\",\"840\":\"Buy\",\"848\":\"Sell\",\"912\":\"Buy\",\"936\":\"Sell\",\"960\":\"Buy\",\"976\":\"Sell\",\"1017\":\"Buy\",\"1024\":\"Sell\",\"1056\":\"Buy\",\"1080\":\"Sell\",\"1120\":\"Buy\",\"1136\":\"Sell\",\"1160\":\"Buy\",\"1168\":\"Sell\",\"1256\":\"Buy\",\"1288\":\"Sell\",\"1345\":\"Buy\",\"1352\":\"Sell\",\"1400\":\"Buy\",\"1408\":\"Sell\"},\"ClosestDateInTest\":{\"8\":1425859200000,\"16\":1428364800000,\"24\":1425859200000,\"32\":1428364800000,\"48\":1433980800000,\"56\":1428364800000,\"72\":1433980800000,\"96\":1436486400000,\"112\":1439164800000,\"120\":1438128000000,\"128\":1439164800000,\"144\":1443657600000,\"200\":1448841600000,\"248\":1455235200000,\"304\":1462838400000,\"312\":1464134400000,\"336\":1466640000000,\"344\":1467849600000,\"384\":1473292800000,\"408\":1475712000000,\"424\":1476230400000,\"432\":1478476800000,\"472\":1489968000000,\"480\":1478476800000,\"520\":1489968000000,\"528\":1492560000000,\"560\":1499212800000,\"568\":1499731200000,\"569\":1499212800000,\"576\":1499731200000,\"624\":1502755200000,\"640\":1504742400000,\"688\":1517529600000,\"696\":1504742400000,\"744\":1517529600000,\"760\":1520208000000,\"776\":1521590400000,\"800\":1524528000000,\"825\":1530144000000,\"832\":1531267200000,\"840\":1530144000000,\"848\":1531267200000,\"912\":1538956800000,\"936\":1542931200000,\"960\":1543795200000,\"976\":1547424000000,\"1017\":1557273600000,\"1024\":1547424000000,\"1056\":1557273600000,\"1080\":1559779200000,\"1120\":1564531200000,\"1136\":1567123200000,\"1160\":1569888000000,\"1168\":1571356800000,\"1256\":1582243200000,\"1288\":1586217600000,\"1345\":1593648000000,\"1352\":1594684800000,\"1400\":1600128000000,\"1408\":1601856000000},\"DaysDifference\":{\"8\":-3,\"16\":14,\"24\":-28,\"32\":-9,\"48\":34,\"56\":-43,\"72\":-1,\"96\":-7,\"112\":0,\"120\":-22,\"128\":-22,\"144\":7,\"200\":-14,\"248\":-12,\"304\":-3,\"312\":0,\"336\":-6,\"344\":-5,\"384\":1,\"408\":-5,\"424\":-21,\"432\":-7,\"472\":67,\"480\":-79,\"520\":-3,\"528\":15,\"560\":47,\"568\":40,\"569\":33,\"576\":28,\"624\":-6,\"640\":-6,\"688\":74,\"696\":-85,\"744\":-10,\"760\":-2,\"776\":-8,\"800\":-9,\"825\":20,\"832\":22,\"840\":-1,\"848\":-1,\"912\":-3,\"936\":9,\"960\":-17,\"976\":-1,\"1017\":54,\"1024\":-71,\"1056\":-2,\"1080\":-8,\"1120\":-12,\"1136\":-5,\"1160\":-7,\"1168\":0,\"1256\":-5,\"1288\":-6,\"1345\":0,\"1352\":0,\"1400\":-6,\"1408\":4}}',\n",
       " 'trade_summary': '\"2015-03-12, BUY EXECUTED, size_to_buy:4, signal:Buy (first), cash:10000.0, position:0\\\\n2015-03-13, BUY EXECUTED, Price: 2064.56005859375, Cost: 8258.240234375, Commission: 41.291201171875, Cash: 1700.468564453125, Value: 9914.068173828126\\\\n2015-03-24, SELL EXECUTED, size_to_sell:8, signal:Sell, cash:1700.468564453125, position:4\\\\n2015-03-25, SELL EXECUTED, Price: 2093.10009765625, Cost: -114.16015625, Commission: 83.72400390625, Cash: 18361.545341796875, Value: 10117.345146484375\\\\n2015-04-06, BUY EXECUTED, size_to_buy:4, signal:Buy, cash:18361.545341796875, position:-4\\\\n2015-04-06, BUY EXECUTED, size_to_buy:4, signal:Buy, cash:18361.545341796875, position:-4\\\\n2015-04-07, BUY EXECUTED, Price: 2080.7900390625, Cost: -8372.400390625, Commission: 41.61580078125, Cash: 1631.9934277343746, Value: 9937.313740234375\\\\n2015-04-07, BUY EXECUTED, Price: 2080.7900390625, Cost: 8323.16015625, Commission: 41.61580078125, Cash: 1631.9934277343746, Value: 9937.313740234375\\\\n2015-04-16, SELL EXECUTED, size_to_sell:8, signal:Sell, cash:1631.9934277343746, position:4\\\\n2015-04-17, SELL EXECUTED, Price: 2102.580078125, Cost: -87.16015625, Commission: 84.10320312500001, Cash: 18368.530849609375, Value: 10043.811123046875\\\\n2015-05-08, BUY EXECUTED, size_to_buy:4, signal:Buy, cash:18368.530849609375, position:-4\\\\n2015-05-08, BUY EXECUTED, size_to_buy:4, signal:Buy, cash:18368.530849609375, position:-4\\\\n2015-05-11, BUY EXECUTED, Price: 2115.56005859375, Cost: -8410.3203125, Commission: 42.311201171875, Cash: 1359.427978515625, Value: 9780.748291015625\\\\n2015-05-11, BUY EXECUTED, Price: 2115.56005859375, Cost: 8462.240234375, Commission: 42.311201171875, Cash: 1359.427978515625, Value: 9780.748291015625\\\\n2015-05-20, SELL EXECUTED, size_to_sell:8, signal:Sell, cash:1359.427978515625, position:4\\\\n2015-05-21, SELL EXECUTED, Price: 2125.550048828125, Cost: -39.9599609375, Commission: 85.022001953125, Cash: 18278.8063671875, Value: 9755.526093749999\\\\n2015-06-12, BUY EXECUTED, size_to_buy:4, signal:Buy, cash:18278.8063671875, position:-4\\\\n2015-06-12, BUY EXECUTED, size_to_buy:4, signal:Buy, cash:18278.8063671875, position:-4\\\\n2015-06-15, BUY EXECUTED, Price: 2091.340087890625, Cost: -8502.2001953125, Commission: 41.826801757812504, Cash: 1464.4320605468743, Value: 9802.151787109375\\\\n2015-06-15, BUY EXECUTED, Price: 2091.340087890625, Cost: 8365.3603515625, Commission: 41.826801757812504, Cash: 1464.4320605468743, Value: 9802.151787109375\\\\n2015-07-17, SELL EXECUTED, size_to_sell:8, signal:Sell, cash:1464.4320605468743, position:4\\\\n2015-07-20, SELL EXECUTED, Price: 2126.85009765625, Cost: -142.0400390625, Commission: 85.07400390625, Cash: 18394.158837890624, Value: 9881.038720703124\\\\n2015-08-10, BUY EXECUTED, size_to_buy:4, signal:Buy, cash:18394.158837890624, position:-4\\\\n2015-08-10, BUY EXECUTED, size_to_buy:4, signal:Buy, cash:18394.158837890624, position:-4\\\\n2015-08-11, BUY EXECUTED, Price: 2102.659912109375, Cost: -8507.400390625, Commission: 42.0531982421875, Cash: 1488.7731445312488, Value: 9825.05341796875\\\\n2015-08-11, BUY EXECUTED, Price: 2102.659912109375, Cost: 8410.6396484375, Commission: 42.0531982421875, Cash: 1488.7731445312488, Value: 9825.05341796875\\\\n2015-08-20, SELL EXECUTED, size_to_sell:8, signal:Sell, cash:1488.7731445312488, position:4\\\\n2015-08-21, SELL EXECUTED, Price: 2034.0799560546875, Cost: 274.31982421875, Commission: 81.36319824218751, Cash: 17680.049594726563, Value: 9796.489536132813\\\\n2015-09-01, BUY EXECUTED, size_to_buy:4, signal:Buy, cash:17680.049594726563, position:-4\\\\n2015-09-01, BUY EXECUTED, size_to_buy:4, signal:Buy, cash:17680.049594726563, position:-4\\\\n2015-09-02, BUY EXECUTED, Price: 1916.52001953125, Cost: -8136.31982421875, Commission: 38.330400390625, Cash: 2271.2286376953125, Value: 10066.668579101562\\\\n2015-09-02, BUY EXECUTED, Price: 1916.52001953125, Cost: 7666.080078125, Commission: 38.330400390625, Cash: 2271.2286376953125, Value: 10066.668579101562\\\\n2015-09-24, SELL EXECUTED, size_to_sell:8, signal:Sell, cash:2271.2286376953125, position:4\\\\n2015-09-25, SELL EXECUTED, Price: 1935.9300537109375, Cost: -77.64013671875, Commission: 77.4372021484375, Cash: 17681.231865234375, Value: 9955.872001953125\\\\n2015-12-14, BUY EXECUTED, size_to_buy:4, signal:Buy, cash:17681.231865234375, position:-4\\\\n2015-12-14, BUY EXECUTED, size_to_buy:4, signal:Buy, cash:17681.231865234375, position:-4\\\\n2015-12-15, BUY EXECUTED, Price: 2025.550048828125, Cost: -7743.72021484375, Commission: 40.5110009765625, Cash: 1395.8094726562492, Value: 9569.449609374999\\\\n2015-12-15, BUY EXECUTED, Price: 2025.550048828125, Cost: 8102.2001953125, Commission: 40.5110009765625, Cash: 1395.8094726562492, Value: 9569.449609374999\\\\n2016-02-24, SELL EXECUTED, size_to_sell:8, signal:Sell, cash:1395.8094726562492, position:4\\\\n2016-02-25, SELL EXECUTED, Price: 1931.8699951171875, Cost: 374.72021484375, Commission: 77.2747998046875, Cash: 16773.49463378906, Value: 8966.694829101561\\\\n2016-05-13, BUY EXECUTED, size_to_buy:4, signal:Buy, cash:16773.49463378906, position:-4\\\\n2016-05-13, BUY EXECUTED, size_to_buy:4, signal:Buy, cash:16773.49463378906, position:-4\\\\n2016-05-16, BUY EXECUTED, Price: 2046.530029296875, Cost: -7727.47998046875, Commission: 40.9306005859375, Cash: 319.393198242186, Value: 8586.032846679685\\\\n2016-05-16, BUY EXECUTED, Price: 2046.530029296875, Cost: 8186.1201171875, Commission: 40.9306005859375, Cash: 319.393198242186, Value: 8586.032846679685\\\\n2016-05-25, SELL EXECUTED, size_to_sell:8, signal:Sell, cash:319.393198242186, position:4\\\\n2016-05-26, SELL EXECUTED, Price: 2091.43994140625, Cost: -179.6396484375, Commission: 83.65759765625, Cash: 16967.255131835936, Value: 8606.854741210936\\\\n2016-06-29, BUY EXECUTED, size_to_buy:4, signal:Buy, cash:16967.255131835936, position:-4\\\\n2016-06-29, BUY EXECUTED, size_to_buy:4, signal:Buy, cash:16967.255131835936, position:-4\\\\n2016-06-30, BUY EXECUTED, Price: 2073.169921875, Cost: -8365.759765625, Commission: 41.463398437500004, Cash: 298.9689599609369, Value: 8694.409389648437\\\\n2016-06-30, BUY EXECUTED, Price: 2073.169921875, Cost: 8292.6796875, Commission: 41.463398437500004, Cash: 298.9689599609369, Value: 8694.409389648437\\\\n2016-07-12, SELL EXECUTED, size_to_sell:8, signal:Sell, cash:298.9689599609369, position:4\\\\n2016-07-13, SELL EXECUTED, Price: 2153.81005859375, Cost: -322.560546875, Commission: 86.15240234375, Cash: 17443.29702636719, Value: 8833.577299804689\\\\n2016-09-07, BUY EXECUTED, size_to_buy:4, signal:Buy, cash:17443.29702636719, position:-4\\\\n2016-09-07, BUY EXECUTED, size_to_buy:3, signal:Buy, cash:17443.29702636719, position:-4\\\\n2016-09-08, BUY EXECUTED, Price: 2182.760009765625, Cost: -8615.240234375, Commission: 43.6552001953125, Cash: 2087.580357666016, Value: 8631.480504150391\\\\n2016-09-08, BUY EXECUTED, Price: 2182.760009765625, Cost: 6548.280029296875, Commission: 32.741400146484374, Cash: 2087.580357666016, Value: 8631.480504150391\\\\n2016-10-11, SELL EXECUTED, size_to_sell:6, signal:Sell, cash:2087.580357666016, position:3\\\\n2016-10-12, SELL EXECUTED, Price: 2137.669921875, Cost: 135.270263671875, Commission: 64.13009765625, Cash: 14849.469791259768, Value: 8431.929996337893\\\\n2016-11-02, BUY EXECUTED, size_to_buy:3, signal:Buy, cash:14849.469791259768, position:-3\\\\n2016-11-02, BUY EXECUTED, size_to_buy:4, signal:Buy, cash:14849.469791259768, position:-3\\\\n2016-11-03, BUY EXECUTED, Price: 2098.800048828125, Cost: -6413.009765625, Commission: 31.482000732421874, Cash: 84.41144775390858, Value: 8439.051096191408\\\\n2016-11-03, BUY EXECUTED, Price: 2098.800048828125, Cost: 8395.2001953125, Commission: 41.9760009765625, Cash: 84.41144775390858, Value: 8439.051096191408\\\\n2016-11-14, SELL EXECUTED, size_to_sell:8, signal:Sell, cash:84.41144775390858, position:4\\\\n2016-11-15, SELL EXECUTED, Price: 2168.2900390625, Cost: -277.9599609375, Commission: 86.7316015625, Cash: 17344.000158691408, Value: 8622.440588378908\\\\n2017-01-12, BUY EXECUTED, size_to_buy:4, signal:Buy, cash:17344.000158691408, position:-4\\\\n2017-01-12, BUY EXECUTED, size_to_buy:3, signal:Buy, cash:17344.000158691408, position:-4\\\\n2017-01-13, BUY EXECUTED, Price: 2272.739990234375, Cost: -8673.16015625, Commission: 45.454799804687504, Cash: 1355.2743273925798, Value: 8179.194005126955\\\\n2017-01-13, BUY EXECUTED, Price: 2272.739990234375, Cost: 6818.219970703125, Commission: 34.09109985351562, Cash: 1355.2743273925798, Value: 8179.194005126955\\\\n2017-01-25, SELL EXECUTED, size_to_sell:6, signal:Sell, cash:1355.2743273925798, position:3\\\\n2017-01-26, SELL EXECUTED, Price: 2298.6298828125, Cost: -77.669677734375, Commission: 68.958896484375, Cash: 15078.094727783206, Value: 8188.054932861331\\\\n2017-03-23, BUY EXECUTED, size_to_buy:3, signal:Buy, cash:15078.094727783206, position:-3\\\\n2017-03-23, BUY EXECUTED, size_to_buy:3, signal:Buy, cash:15078.094727783206, position:-3\\\\n2017-03-24, BUY EXECUTED, Price: 2350.419921875, Cost: -6895.8896484375, Commission: 35.256298828125, Cash: 905.0625988769555, Value: 7937.002540283205\\\\n2017-03-24, BUY EXECUTED, Price: 2350.419921875, Cost: 7051.259765625, Commission: 35.256298828125, Cash: 905.0625988769555, Value: 7937.002540283205\\\\n2017-04-04, SELL EXECUTED, size_to_sell:6, signal:Sell, cash:905.0625988769555, position:3\\\\n2017-04-05, SELL EXECUTED, Price: 2366.590087890625, Cost: -48.510498046875, Commission: 70.99770263671874, Cash: 15033.605423583986, Value: 7974.755570068361\\\\n2017-05-19, BUY EXECUTED, size_to_buy:3, signal:Buy, cash:15033.605423583986, position:-3\\\\n2017-05-19, BUY EXECUTED, size_to_buy:3, signal:Buy, cash:15033.605423583986, position:-3\\\\n2017-05-22, BUY EXECUTED, Price: 2387.2099609375, Cost: -7099.770263671875, Commission: 35.8081494140625, Cash: 638.7293591308606, Value: 7820.789417724611\\\\n2017-05-22, BUY EXECUTED, Price: 2387.2099609375, Cost: 7161.6298828125, Commission: 35.8081494140625, Cash: 638.7293591308606, Value: 7820.789417724611\\\\n2017-06-01, SELL EXECUTED, size_to_sell:6, signal:Sell, cash:638.7293591308606, position:3\\\\n2017-06-02, SELL EXECUTED, Price: 2431.280029296875, Cost: -132.210205078125, Commission: 72.93840087890625, Cash: 15153.471134033205, Value: 7836.26092895508\\\\n2017-06-02, BUY EXECUTED, size_to_buy:3, signal:Buy, cash:15153.471134033205, position:-3\\\\n2017-06-02, BUY EXECUTED, size_to_buy:3, signal:Buy, cash:15153.471134033205, position:-3\\\\n2017-06-05, BUY EXECUTED, Price: 2437.830078125, Cost: -7293.840087890625, Commission: 36.567451171875, Cash: 453.3557629394548, Value: 7761.6560559082045\\\\n2017-06-05, BUY EXECUTED, Price: 2437.830078125, Cost: 7313.490234375, Commission: 36.567451171875, Cash: 453.3557629394548, Value: 7761.6560559082045\\\\n2017-06-13, SELL EXECUTED, size_to_sell:6, signal:Sell, cash:453.3557629394548, position:3\\\\n2017-06-14, SELL EXECUTED, Price: 2443.75, Cost: -17.759765625, Commission: 73.3125, Cash: 15042.543262939455, Value: 7728.7834973144545\\\\n2017-08-21, BUY EXECUTED, size_to_buy:3, signal:Buy, cash:15042.543262939455, position:-3\\\\n2017-08-21, BUY EXECUTED, size_to_buy:3, signal:Buy, cash:15042.543262939455, position:-3\\\\n2017-08-22, BUY EXECUTED, Price: 2433.75, Cost: -7331.25, Commission: 36.50625, Cash: 367.0307629394541, Value: 7724.560792236329\\\\n2017-08-22, BUY EXECUTED, Price: 2433.75, Cost: 7301.25, Commission: 36.50625, Cash: 367.0307629394541, Value: 7724.560792236329\\\\n2017-09-13, SELL EXECUTED, size_to_sell:6, signal:Sell, cash:367.0307629394541, position:3\\\\n2017-09-14, SELL EXECUTED, Price: 2494.56005859375, Cost: -182.43017578125, Commission: 74.8368017578125, Cash: 15259.55431274414, Value: 7772.69396118164\\\\n2017-11-20, BUY EXECUTED, size_to_buy:3, signal:Buy, cash:15259.55431274414, position:-3\\\\n2017-11-20, BUY EXECUTED, size_to_buy:2, signal:Buy, cash:15259.55431274414, position:-3\\\\n2017-11-21, BUY EXECUTED, Price: 2589.169921875, Cost: -7483.68017578125, Commission: 38.837548828125, Cash: 2248.975455322264, Value: 7447.035513916015\\\\n2017-11-21, BUY EXECUTED, Price: 2589.169921875, Cost: 5178.33984375, Commission: 25.891699218750002, Cash: 2248.975455322264, Value: 7447.035513916015\\\\n2017-12-01, SELL EXECUTED, size_to_sell:4, signal:Sell, cash:2248.975455322264, position:2\\\\n2017-12-04, SELL EXECUTED, Price: 2657.18994140625, Cost: -136.0400390625, Commission: 53.143798828125, Cash: 12824.59142211914, Value: 7545.71153930664\\\\n2018-02-12, BUY EXECUTED, size_to_buy:2, signal:Buy, cash:12824.59142211914, position:-2\\\\n2018-02-12, BUY EXECUTED, size_to_buy:2, signal:Buy, cash:12824.59142211914, position:-2\\\\n2018-02-13, BUY EXECUTED, Price: 2646.27001953125, Cost: -5314.3798828125, Commission: 26.4627001953125, Cash: 2186.585943603515, Value: 7512.465826416015\\\\n2018-02-13, BUY EXECUTED, Price: 2646.27001953125, Cost: 5292.5400390625, Commission: 26.4627001953125, Cash: 2186.585943603515, Value: 7512.465826416015\\\\n2018-03-07, SELL EXECUTED, size_to_sell:4, signal:Sell, cash:2186.585943603515, position:2\\\\n2018-03-08, SELL EXECUTED, Price: 2732.75, Cost: -172.9599609375, Commission: 54.655, Cash: 13062.930943603515, Value: 7584.991002197265\\\\n2018-03-29, BUY EXECUTED, size_to_buy:2, signal:Buy, cash:13062.930943603515, position:-2\\\\n2018-03-29, BUY EXECUTED, size_to_buy:2, signal:Buy, cash:13062.930943603515, position:-2\\\\n2018-04-02, BUY EXECUTED, Price: 2633.449951171875, Cost: -5465.5, Commission: 26.33449951171875, Cash: 2476.4621398925774, Value: 7640.221905517577\\\\n2018-04-02, BUY EXECUTED, Price: 2633.449951171875, Cost: 5266.89990234375, Commission: 26.33449951171875, Cash: 2476.4621398925774, Value: 7640.221905517577\\\\n2018-05-03, SELL EXECUTED, size_to_sell:4, signal:Sell, cash:2476.4621398925774, position:2\\\\n2018-05-04, SELL EXECUTED, Price: 2621.449951171875, Cost: 24.0, Commission: 52.4289990234375, Cash: 12909.832945556638, Value: 7582.993101806638\\\\n2018-06-08, BUY EXECUTED, size_to_buy:2, signal:Buy, cash:12909.832945556638, position:-2\\\\n2018-06-08, BUY EXECUTED, size_to_buy:2, signal:Buy, cash:12909.832945556638, position:-2\\\\n2018-06-11, BUY EXECUTED, Price: 2780.179931640625, Cost: -5242.89990234375, Commission: 27.80179931640625, Cash: 1733.5096203613252, Value: 7297.509620361325\\\\n2018-06-11, BUY EXECUTED, Price: 2780.179931640625, Cost: 5560.35986328125, Commission: 27.80179931640625, Cash: 1733.5096203613252, Value: 7297.509620361325\\\\n2018-06-19, SELL EXECUTED, size_to_sell:4, signal:Sell, cash:1733.5096203613252, position:2\\\\n2018-06-20, SELL EXECUTED, Price: 2769.72998046875, Cost: 20.89990234375, Commission: 55.394599609375, Cash: 12757.03494262695, Value: 7222.3948059081995\\\\n2018-06-29, BUY EXECUTED, size_to_buy:2, signal:Buy, cash:12757.03494262695, position:-2\\\\n2018-06-29, BUY EXECUTED, size_to_buy:2, signal:Buy, cash:12757.03494262695, position:-2\\\\n2018-07-02, BUY EXECUTED, Price: 2704.949951171875, Cost: -5539.4599609375, Commission: 27.04949951171875, Cash: 1883.136138916012, Value: 7336.556060791012\\\\n2018-07-02, BUY EXECUTED, Price: 2704.949951171875, Cost: 5409.89990234375, Commission: 27.04949951171875, Cash: 1883.136138916012, Value: 7336.556060791012\\\\n2018-07-12, SELL EXECUTED, size_to_sell:4, signal:Sell, cash:1883.136138916012, position:2\\\\n2018-07-13, SELL EXECUTED, Price: 2796.929931640625, Cost: -183.9599609375, Commission: 55.9385986328125, Cash: 13014.9172668457, Value: 7412.2971496581995\\\\n2018-10-11, BUY EXECUTED, size_to_buy:2, signal:Buy, cash:13014.9172668457, position:-2\\\\n2018-10-11, BUY EXECUTED, size_to_buy:2, signal:Buy, cash:13014.9172668457, position:-2\\\\n2018-10-12, BUY EXECUTED, Price: 2770.5400390625, Cost: -5593.85986328125, Commission: 27.705400390625, Cash: 1877.3463098144493, Value: 7411.606075439449\\\\n2018-10-12, BUY EXECUTED, Price: 2770.5400390625, Cost: 5541.080078125, Commission: 27.705400390625, Cash: 1877.3463098144493, Value: 7411.606075439449\\\\n2018-11-14, SELL EXECUTED, size_to_sell:4, signal:Sell, cash:1877.3463098144493, position:2\\\\n2018-11-15, SELL EXECUTED, Price: 2693.52001953125, Cost: 154.0400390625, Commission: 53.870400390625, Cash: 12597.555987548825, Value: 7137.156085205075\\\\n2018-12-20, BUY EXECUTED, size_to_buy:2, signal:Buy, cash:12597.555987548825, position:-2\\\\n2018-12-20, BUY EXECUTED, size_to_buy:3, signal:Buy, cash:12597.555987548825, position:-2\\\\n2018-12-21, BUY EXECUTED, Price: 2465.3798828125, Cost: -5387.0400390625, Commission: 24.653798828125, Cash: 209.0220764160125, Value: 7458.882427978512\\\\n2018-12-21, BUY EXECUTED, Price: 2465.3798828125, Cost: 7396.1396484375, Commission: 36.9806982421875, Cash: 209.0220764160125, Value: 7458.882427978512\\\\n2019-01-15, SELL EXECUTED, size_to_sell:6, signal:Sell, cash:209.0220764160125, position:3\\\\n2019-01-16, SELL EXECUTED, Price: 2614.75, Cost: -448.1103515625, Commission: 78.4425, Cash: 15819.079576416012, Value: 7970.779283447262\\\\n2019-03-15, BUY EXECUTED, size_to_buy:3, signal:Buy, cash:15819.079576416012, position:-3\\\\n2019-03-15, BUY EXECUTED, size_to_buy:2, signal:Buy, cash:15819.079576416012, position:-3\\\\n2019-03-18, BUY EXECUTED, Price: 2822.610107421875, Cost: -7844.25, Commission: 42.33915161132812, Cash: 1635.4637866210903, Value: 7301.343669433591\\\\n2019-03-18, BUY EXECUTED, Price: 2822.610107421875, Cost: 5645.22021484375, Commission: 28.22610107421875, Cash: 1635.4637866210903, Value: 7301.343669433591\\\\n2019-03-26, SELL EXECUTED, size_to_sell:4, signal:Sell, cash:1635.4637866210903, position:2\\\\n2019-03-27, SELL EXECUTED, Price: 2819.719970703125, Cost: 5.7802734375, Commission: 56.3943994140625, Cash: 12857.949270019528, Value: 7247.209035644528\\\\n2019-05-10, BUY EXECUTED, size_to_buy:2, signal:Buy, cash:12857.949270019528, position:-2\\\\n2019-05-10, BUY EXECUTED, size_to_buy:2, signal:Buy, cash:12857.949270019528, position:-2\\\\n2019-05-13, BUY EXECUTED, Price: 2840.18994140625, Cost: -5639.43994140625, Commission: 28.401899414062502, Cash: 1440.385705566403, Value: 7064.125939941403\\\\n2019-05-13, BUY EXECUTED, Price: 2840.18994140625, Cost: 5680.3798828125, Commission: 28.401899414062502, Cash: 1440.385705566403, Value: 7064.125939941403\\\\n2019-06-14, SELL EXECUTED, size_to_sell:4, signal:Sell, cash:1440.385705566403, position:2\\\\n2019-06-17, SELL EXECUTED, Price: 2889.75, Cost: -99.1201171875, Commission: 57.795, Cash: 12941.590705566403, Value: 7162.250861816403\\\\n2019-08-12, BUY EXECUTED, size_to_buy:2, signal:Buy, cash:12941.590705566403, position:-2\\\\n2019-08-12, BUY EXECUTED, size_to_buy:2, signal:Buy, cash:12941.590705566403, position:-2\\\\n2019-08-13, BUY EXECUTED, Price: 2880.719970703125, Cost: -5779.5, Commission: 28.807199707031252, Cash: 1361.0964233398406, Value: 7213.736560058591\\\\n2019-08-13, BUY EXECUTED, Price: 2880.719970703125, Cost: 5761.43994140625, Commission: 28.807199707031252, Cash: 1361.0964233398406, Value: 7213.736560058591\\\\n2019-09-04, SELL EXECUTED, size_to_sell:4, signal:Sell, cash:1361.0964233398406, position:2\\\\n2019-09-05, SELL EXECUTED, Price: 2960.60009765625, Cost: -159.76025390625, Commission: 59.212001953125004, Cash: 13144.284812011716, Value: 7192.284812011716\\\\n2019-10-08, BUY EXECUTED, size_to_buy:2, signal:Buy, cash:13144.284812011716, position:-2\\\\n2019-10-08, BUY EXECUTED, size_to_buy:2, signal:Buy, cash:13144.284812011716, position:-2\\\\n2019-10-09, BUY EXECUTED, Price: 2911.10009765625, Cost: -5921.2001953125, Commission: 29.1110009765625, Cash: 1441.662419433591, Value: 7280.462224121091\\\\n2019-10-09, BUY EXECUTED, Price: 2911.10009765625, Cost: 5822.2001953125, Commission: 29.1110009765625, Cash: 1441.662419433591, Value: 7280.462224121091\\\\n2019-10-18, SELL EXECUTED, size_to_sell:4, signal:Sell, cash:1441.662419433591, position:2\\\\n2019-10-21, SELL EXECUTED, Price: 2996.47998046875, Cost: -170.759765625, Commission: 59.929599609375, Cash: 13367.652741699216, Value: 7354.212800292966\\\\n2020-02-26, BUY EXECUTED, size_to_buy:2, signal:Buy, cash:13367.652741699216, position:-2\\\\n2020-02-26, BUY EXECUTED, size_to_buy:2, signal:Buy, cash:13367.652741699216, position:-2\\\\n2020-02-27, BUY EXECUTED, Price: 3062.5400390625, Cost: -5992.9599609375, Commission: 30.625400390625, Cash: 1056.2417846679657, Value: 7013.7618041992155\\\\n2020-02-27, BUY EXECUTED, Price: 3062.5400390625, Cost: 6125.080078125, Commission: 30.625400390625, Cash: 1056.2417846679657, Value: 7013.7618041992155\\\\n2020-04-13, SELL EXECUTED, size_to_sell:4, signal:Sell, cash:1056.2417846679657, position:2\\\\n2020-04-14, SELL EXECUTED, Price: 2805.10009765625, Cost: 514.8798828125, Commission: 56.102001953125004, Cash: 12220.540173339841, Value: 6528.420056152341\\\\n2020-07-02, BUY EXECUTED, size_to_buy:2, signal:Buy, cash:12220.540173339841, position:-2\\\\n2020-07-02, BUY EXECUTED, size_to_buy:1, signal:Buy, cash:12220.540173339841, position:-2\\\\n2020-07-06, BUY EXECUTED, Price: 3155.2900390625, Cost: -5610.2001953125, Commission: 31.552900390625002, Cash: 2707.340705566404, Value: 5887.060676269529\\\\n2020-07-06, BUY EXECUTED, Price: 3155.2900390625, Cost: 3155.2900390625, Commission: 15.776450195312501, Cash: 2707.340705566404, Value: 5887.060676269529\\\\n2020-07-14, SELL EXECUTED, size_to_sell:2, signal:Sell, cash:2707.340705566404, position:1\\\\n2020-07-15, SELL EXECUTED, Price: 3225.97998046875, Cost: -70.68994140625, Commission: 32.2597998046875, Cash: 9127.040866699217, Value: 5900.480808105467\\\\n2020-09-21, BUY EXECUTED, size_to_buy:1, signal:Buy, cash:9127.040866699217, position:-1\\\\n2020-09-21, BUY EXECUTED, size_to_buy:1, signal:Buy, cash:9127.040866699217, position:-1\\\\n2020-09-22, BUY EXECUTED, Price: 3295.75, Cost: -3225.97998046875, Commission: 16.47875, Cash: 2502.5833666992166, Value: 5818.153435058592\\\\n2020-09-22, BUY EXECUTED, Price: 3295.75, Cost: 3295.75, Commission: 16.47875, Cash: 2502.5833666992166, Value: 5818.153435058592\\\\n2020-10-01, SELL EXECUTED, size_to_sell:0, signal:Sell (last), cash:2502.5833666992166, position:1\\\\n\"',\n",
       " 'execution_time': '36.14249062538147'}"
      ]
     },
     "execution_count": 19,
     "metadata": {},
     "output_type": "execute_result"
    }
   ],
   "source": [
    "response"
   ]
  }
 ],
 "metadata": {
  "kernelspec": {
   "display_name": "myenv",
   "language": "python",
   "name": "python3"
  },
  "language_info": {
   "codemirror_mode": {
    "name": "ipython",
    "version": 3
   },
   "file_extension": ".py",
   "mimetype": "text/x-python",
   "name": "python",
   "nbconvert_exporter": "python",
   "pygments_lexer": "ipython3",
   "version": "3.10.7"
  }
 },
 "nbformat": 4,
 "nbformat_minor": 2
}
