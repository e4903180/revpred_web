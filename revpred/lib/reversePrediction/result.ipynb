{
 "cells": [
  {
   "cell_type": "code",
   "execution_count": 40,
   "metadata": {},
   "outputs": [
    {
     "data": {
      "text/plain": [
       "0    {\"Accuracy\":{\"0\":0.667798913},\"Precision\":{\"0\"...\n",
       "Name: confusion_matrix, dtype: object"
      ]
     },
     "execution_count": 40,
     "metadata": {},
     "output_type": "execute_result"
    }
   ],
   "source": [
    "import pandas as pd\n",
    "import json\n",
    "\n",
    "a = pd.read_json(content)\n",
    "a['confusion_matrix']"
   ]
  },
  {
   "cell_type": "code",
   "execution_count": 36,
   "metadata": {},
   "outputs": [
    {
     "name": "stdout",
     "output_type": "stream",
     "text": [
      "DNN_Projects/MA-10-5/all-DNN_5layers-5\n",
      "DNN_Projects/LocalExtrema-5-4/all-DNN_5layers-4\n",
      "DNN_Projects/LocalExtrema-20-3/all-DNN_5layers-3\n",
      "DNN_Projects/LocalExtrema-20-7/all-DNN_5layers-7\n",
      "DNN_Projects/LocalExtrema-5-5/all-DNN_5layers-5\n",
      "DNN_Projects/LocalExtrema-5-6/all-DNN_5layers-6\n",
      "DNN_Projects/LocalExtrema-10-2/all-DNN_5layers-2\n",
      "DNN_Projects/LocalExtrema-5-7/all-DNN_5layers-7\n",
      "DNN_Projects/LocalExtrema-20-4/all-DNN_5layers-4\n",
      "DNN_Projects/LocalExtrema-5-3/all-DNN_5layers-3\n",
      "DNN_Projects/LocalExtrema-20-5/all-DNN_5layers-5\n",
      "DNN_Projects/MA-20-6/all-DNN_5layers-6\n",
      "DNN_Projects/MA-20-1/all-DNN_5layers-1\n",
      "DNN_Projects/LocalExtrema-10-6/all-DNN_5layers-6\n",
      "DNN_Projects/LocalExtrema-20-8/all-DNN_5layers-8\n",
      "DNN_Projects/LocalExtrema-5-1/all-DNN_5layers-1\n",
      "DNN_Projects/LocalExtrema-20-6/all-DNN_5layers-6\n",
      "DNN_Projects/LocalExtrema-5-8/all-DNN_5layers-8\n",
      "DNN_Projects/LocalExtrema-10-8/all-DNN_5layers-8\n",
      "DNN_Projects/LocalExtrema-10-5/all-DNN_5layers-5\n",
      "DNN_Projects/MA-20-3/all-DNN_5layers-3\n",
      "DNN_Projects/MA-10-3/all-DNN_5layers-3\n",
      "DNN_Projects/MA-10-6/all-DNN_5layers-6\n",
      "DNN_Projects/MA-20-2/all-DNN_5layers-2\n",
      "DNN_Projects/MA-20-8/all-DNN_5layers-8\n",
      "DNN_Projects/MA-10-4/all-DNN_5layers-4\n",
      "DNN_Projects/MA-10-8/all-DNN_5layers-8\n",
      "DNN_Projects/MA-10-2/all-DNN_5layers-2\n",
      "DNN_Projects/MA-10-1/all-DNN_5layers-1\n",
      "DNN_Projects/MA-20-7/all-DNN_5layers-7\n",
      "DNN_Projects/MA-20-4/all-DNN_5layers-4\n",
      "DNN_Projects/LocalExtrema-10-7/all-DNN_5layers-7\n",
      "DNN_Projects/MA-10-7/all-DNN_5layers-7\n",
      "DNN_Projects/MA-20-5/all-DNN_5layers-5\n",
      "DNN_Projects/LocalExtrema-5-2/all-DNN_5layers-2\n",
      "DNN_Projects/LocalExtrema-20-1/all-DNN_5layers-1\n",
      "DNN_Projects/LocalExtrema-20-2/all-DNN_5layers-2\n",
      "DNN_Projects/LocalExtrema-10-3/all-DNN_5layers-3\n",
      "DNN_Projects/LocalExtrema-10-4/all-DNN_5layers-4\n",
      "DNN_Projects/LocalExtrema-10-1/all-DNN_5layers-1\n"
     ]
    }
   ],
   "source": [
    "import os\n",
    "import pandas as pd\n",
    "\n",
    "result = pd.DataFrame(columns=['Filename', 'Trend_def', 'Features', 'Model', 'Predict_steps', 'Accuracy', 'Precision', 'Recall', 'F1 Score', 'Total return', 'Execution Time', 'Sharpe ratio', 'Initial value', 'Final value'])\n",
    "# execution_time = pd.DataFrame(columns=['Filename', 'Execution Time'])\n",
    "# trade_summary = pd.DataFrame(columns=['Filename', 'Sharpe ratio', 'Initial value', 'Final value', 'Total return'])\n",
    "root_path = 'DNN_Projects'\n",
    "for folder in os.listdir(root_path):\n",
    "    first_path = os.path.join(root_path, folder)\n",
    "    for subfolder in os.listdir(first_path):\n",
    "        second_path = os.path.join(first_path, subfolder)\n",
    "        print(second_path)\n",
    "        summary_path = os.path.join(second_path, 'reports/summary.json')\n",
    "        if not os.path.exists(summary_path):\n",
    "            continue\n",
    "        with open(summary_path, 'r') as file:\n",
    "            trend_def = folder.split('-')[0] + ':' + folder.split('-')[1]\n",
    "            features = subfolder.split('-')[0]\n",
    "            model = subfolder.split('-')[1]\n",
    "            predict_steps = subfolder.split('-')[-1]\n",
    "            \n",
    "            content = file.read()\n",
    "            # content = pd.read_json(content)\n",
    "            # accuracy = content['confusion_matrix']['Accuracy']\n",
    "            # precision = content['confusion_matrix']['Precision']\n",
    "            # recall = content['confusion_matrix']['Recall']\n",
    "            # f1_score = content['confusion_matrix']['F1 Score']\n",
    "            # execution_time_ = content['execution_time']\n",
    "            # sharpe_ratio = content['backtesting']['sharpe_ratio']\n",
    "            # initial_value = content['backtesting']['initial_value']\n",
    "            # final_value = content['backtesting']['final_value']\n",
    "            # total_return = content['backtesting']['total_return']\n",
    "            # filename = second_path\n",
    "            \n",
    "            # new_data = pd.DataFrame({'Filename': [filename], 'Trend_def':[trend_def], 'Features':[features], 'Model':[model], 'Predict_steps':[predict_steps], 'Accuracy': [accuracy], 'Precision': [precision], 'Recall': [recall], 'F1 Score': [f1_score], 'Execution Time': [execution_time_], 'Sharpe ratio': [sharpe_ratio], 'Initial value': [initial_value], 'Final value': [final_value], 'Total return': [total_return]})\n",
    "            # result = pd.concat([result, new_data], ignore_index=True)\n",
    "        "
   ]
  },
  {
   "cell_type": "code",
   "execution_count": 10,
   "metadata": {},
   "outputs": [
    {
     "name": "stdout",
     "output_type": "stream",
     "text": [
      "DNN_Projects/MA-10-5/all-DNN_5layers-5\n",
      "DNN_Projects/LocalExtrema-5-4/all-DNN_5layers-4\n",
      "DNN_Projects/LocalExtrema-20-3/all-DNN_5layers-3\n",
      "DNN_Projects/LocalExtrema-20-7/all-DNN_5layers-7\n",
      "DNN_Projects/LocalExtrema-5-5/all-DNN_5layers-5\n",
      "DNN_Projects/LocalExtrema-5-6/all-DNN_5layers-6\n",
      "DNN_Projects/LocalExtrema-10-2/all-DNN_5layers-2\n",
      "DNN_Projects/LocalExtrema-5-7/all-DNN_5layers-7\n",
      "DNN_Projects/LocalExtrema-20-4/all-DNN_5layers-4\n",
      "DNN_Projects/LocalExtrema-5-3/all-DNN_5layers-3\n",
      "DNN_Projects/LocalExtrema-20-5/all-DNN_5layers-5\n",
      "DNN_Projects/MA-20-6/all-DNN_5layers-6\n",
      "DNN_Projects/MA-20-1/all-DNN_5layers-1\n",
      "DNN_Projects/LocalExtrema-10-6/all-DNN_5layers-6\n",
      "DNN_Projects/LocalExtrema-20-8/all-DNN_5layers-8\n",
      "DNN_Projects/LocalExtrema-5-1/all-DNN_5layers-1\n",
      "DNN_Projects/LocalExtrema-20-6/all-DNN_5layers-6\n",
      "DNN_Projects/LocalExtrema-5-8/all-DNN_5layers-8\n",
      "DNN_Projects/LocalExtrema-10-8/all-DNN_5layers-8\n",
      "DNN_Projects/LocalExtrema-10-5/all-DNN_5layers-5\n",
      "DNN_Projects/MA-20-3/all-DNN_5layers-3\n",
      "DNN_Projects/MA-10-3/all-DNN_5layers-3\n",
      "DNN_Projects/MA-10-6/all-DNN_5layers-6\n",
      "DNN_Projects/MA-20-2/all-DNN_5layers-2\n",
      "DNN_Projects/MA-20-8/all-DNN_5layers-8\n",
      "DNN_Projects/MA-10-4/all-DNN_5layers-4\n",
      "DNN_Projects/MA-10-8/all-DNN_5layers-8\n",
      "DNN_Projects/MA-10-2/all-DNN_5layers-2\n",
      "DNN_Projects/MA-10-1/all-DNN_5layers-1\n",
      "DNN_Projects/MA-20-7/all-DNN_5layers-7\n",
      "DNN_Projects/MA-20-4/all-DNN_5layers-4\n",
      "DNN_Projects/LocalExtrema-10-7/all-DNN_5layers-7\n",
      "DNN_Projects/MA-10-7/all-DNN_5layers-7\n",
      "DNN_Projects/MA-20-5/all-DNN_5layers-5\n",
      "DNN_Projects/LocalExtrema-5-2/all-DNN_5layers-2\n",
      "DNN_Projects/LocalExtrema-20-1/all-DNN_5layers-1\n",
      "DNN_Projects/LocalExtrema-20-2/all-DNN_5layers-2\n",
      "DNN_Projects/LocalExtrema-10-3/all-DNN_5layers-3\n",
      "DNN_Projects/LocalExtrema-10-4/all-DNN_5layers-4\n",
      "DNN_Projects/LocalExtrema-10-1/all-DNN_5layers-1\n"
     ]
    }
   ],
   "source": [
    "import os\n",
    "import pandas as pd\n",
    "\n",
    "result = pd.DataFrame(columns=['Filename', 'Trend_def', 'Features', 'Model', 'Predict_steps', 'Accuracy', 'Precision', 'Recall', 'F1 Score', 'Total return', 'Execution Time', 'Sharpe ratio', 'Initial value', 'Final value'])\n",
    "# execution_time = pd.DataFrame(columns=['Filename', 'Execution Time'])\n",
    "# trade_summary = pd.DataFrame(columns=['Filename', 'Sharpe ratio', 'Initial value', 'Final value', 'Total return'])\n",
    "root_path = 'DNN_Projects'\n",
    "for folder in os.listdir(root_path):\n",
    "    first_path = os.path.join(root_path, folder)\n",
    "    for subfolder in os.listdir(first_path):\n",
    "        second_path = os.path.join(first_path, subfolder)\n",
    "        print(second_path)\n",
    "        summary_path = os.path.join(second_path, 'reports/summary.txt')\n",
    "        if not os.path.exists(summary_path):\n",
    "            continue\n",
    "        with open(summary_path, 'r') as file:\n",
    "            trend_def = folder.split('-')[0] + ':' + folder.split('-')[1]\n",
    "            features = subfolder.split('-')[0]\n",
    "            model = subfolder.split('-')[1]\n",
    "            predict_steps = subfolder.split('-')[-1]\n",
    "            \n",
    "            content = file.read()\n",
    "            content = content.split('\\n')\n",
    "            accuracy = content[2].split(': ')[1]\n",
    "            precision = content[3].split(': ')[1]\n",
    "            recall = content[4].split(': ')[1]\n",
    "            f1_score = content[5].split(': ')[1]\n",
    "            execution_time_ = content[8].split(': ')[1].split('seconds')[0]\n",
    "            sharpe_ratio = content[10].split(',')[1]\n",
    "            initial_value = content[10].split(',')[2]\n",
    "            final_value = content[10].split(',')[3]\n",
    "            total_return = content[10].split(',')[4]\n",
    "            filename = second_path\n",
    "            \n",
    "            new_data = pd.DataFrame({'Filename': [filename], 'Trend_def':[trend_def], 'Features':[features], 'Model':[model], 'Predict_steps':[predict_steps], 'Accuracy': [accuracy], 'Precision': [precision], 'Recall': [recall], 'F1 Score': [f1_score], 'Execution Time': [execution_time_], 'Sharpe ratio': [sharpe_ratio], 'Initial value': [initial_value], 'Final value': [final_value], 'Total return': [total_return]})\n",
    "            result = pd.concat([result, new_data], ignore_index=True)\n",
    "        "
   ]
  },
  {
   "cell_type": "code",
   "execution_count": 11,
   "metadata": {},
   "outputs": [
    {
     "data": {
      "text/plain": [
       "'{\"confusion_matrix\": \"{\\\\\"Accuracy\\\\\":{\\\\\"0\\\\\":0.667798913},\\\\\"Precision\\\\\":{\\\\\"0\\\\\":0.7428490791},\\\\\"Recall\\\\\":{\\\\\"0\\\\\":0.6707801607},\\\\\"F1 Score\\\\\":{\\\\\"0\\\\\":0.6423021018}}\", \"roc_auc\": [0.6707801606995155], \"execution_time\": [255.44584918022156], \"pred_days_difference\": [20.181008902077153], \"backtesting\": \"{\\\\\"sharpe_ratio\\\\\":{\\\\\"0\\\\\":-0.4960332568},\\\\\"initial_value\\\\\":{\\\\\"0\\\\\":10000.0},\\\\\"final_value\\\\\":{\\\\\"0\\\\\":2845.2060803222},\\\\\"total_return\\\\\":{\\\\\"0\\\\\":0.284520608}}\"}'"
      ]
     },
     "execution_count": 11,
     "metadata": {},
     "output_type": "execute_result"
    }
   ],
   "source": [
    "content"
   ]
  },
  {
   "cell_type": "code",
   "execution_count": 12,
   "metadata": {},
   "outputs": [
    {
     "data": {
      "text/html": [
       "<div>\n",
       "<style scoped>\n",
       "    .dataframe tbody tr th:only-of-type {\n",
       "        vertical-align: middle;\n",
       "    }\n",
       "\n",
       "    .dataframe tbody tr th {\n",
       "        vertical-align: top;\n",
       "    }\n",
       "\n",
       "    .dataframe thead th {\n",
       "        text-align: right;\n",
       "    }\n",
       "</style>\n",
       "<table border=\"1\" class=\"dataframe\">\n",
       "  <thead>\n",
       "    <tr style=\"text-align: right;\">\n",
       "      <th></th>\n",
       "      <th>Filename</th>\n",
       "      <th>Trend_def</th>\n",
       "      <th>Features</th>\n",
       "      <th>Model</th>\n",
       "      <th>Predict_steps</th>\n",
       "      <th>Accuracy</th>\n",
       "      <th>Precision</th>\n",
       "      <th>Recall</th>\n",
       "      <th>F1 Score</th>\n",
       "      <th>Total return</th>\n",
       "      <th>Execution Time</th>\n",
       "      <th>Sharpe ratio</th>\n",
       "      <th>Initial value</th>\n",
       "      <th>Final value</th>\n",
       "    </tr>\n",
       "  </thead>\n",
       "  <tbody>\n",
       "  </tbody>\n",
       "</table>\n",
       "</div>"
      ],
      "text/plain": [
       "Empty DataFrame\n",
       "Columns: [Filename, Trend_def, Features, Model, Predict_steps, Accuracy, Precision, Recall, F1 Score, Total return, Execution Time, Sharpe ratio, Initial value, Final value]\n",
       "Index: []"
      ]
     },
     "execution_count": 12,
     "metadata": {},
     "output_type": "execute_result"
    }
   ],
   "source": [
    "result"
   ]
  },
  {
   "cell_type": "code",
   "execution_count": 13,
   "metadata": {},
   "outputs": [],
   "source": [
    "result['Predict_steps'] = pd.to_numeric(result['Predict_steps'])\n",
    "result['Accuracy'] = pd.to_numeric(result['Accuracy'])\n",
    "result['Precision'] = pd.to_numeric(result['Precision'])\n",
    "result['Recall'] = pd.to_numeric(result['Recall'])\n",
    "result['F1 Score'] = pd.to_numeric(result['F1 Score'])\n",
    "result['Total return'] = pd.to_numeric(result['Total return'])\n",
    "result['Execution Time'] = pd.to_numeric(result['Execution Time'])\n",
    "result['Sharpe ratio'] = pd.to_numeric(result['Sharpe ratio'])\n",
    "result['Initial value'] = pd.to_numeric(result['Initial value'])\n",
    "result['Final value'] = pd.to_numeric(result['Final value'])\n"
   ]
  },
  {
   "cell_type": "code",
   "execution_count": 14,
   "metadata": {},
   "outputs": [
    {
     "data": {
      "text/html": [
       "<div>\n",
       "<style scoped>\n",
       "    .dataframe tbody tr th:only-of-type {\n",
       "        vertical-align: middle;\n",
       "    }\n",
       "\n",
       "    .dataframe tbody tr th {\n",
       "        vertical-align: top;\n",
       "    }\n",
       "\n",
       "    .dataframe thead th {\n",
       "        text-align: right;\n",
       "    }\n",
       "</style>\n",
       "<table border=\"1\" class=\"dataframe\">\n",
       "  <thead>\n",
       "    <tr style=\"text-align: right;\">\n",
       "      <th></th>\n",
       "      <th>Filename</th>\n",
       "      <th>Trend_def</th>\n",
       "      <th>Features</th>\n",
       "      <th>Model</th>\n",
       "      <th>Predict_steps</th>\n",
       "      <th>Accuracy</th>\n",
       "      <th>Precision</th>\n",
       "      <th>Recall</th>\n",
       "      <th>F1 Score</th>\n",
       "      <th>Total return</th>\n",
       "      <th>Execution Time</th>\n",
       "      <th>Sharpe ratio</th>\n",
       "      <th>Initial value</th>\n",
       "      <th>Final value</th>\n",
       "    </tr>\n",
       "  </thead>\n",
       "  <tbody>\n",
       "  </tbody>\n",
       "</table>\n",
       "</div>"
      ],
      "text/plain": [
       "Empty DataFrame\n",
       "Columns: [Filename, Trend_def, Features, Model, Predict_steps, Accuracy, Precision, Recall, F1 Score, Total return, Execution Time, Sharpe ratio, Initial value, Final value]\n",
       "Index: []"
      ]
     },
     "execution_count": 14,
     "metadata": {},
     "output_type": "execute_result"
    }
   ],
   "source": [
    "result.sort_values(by=['F1 Score'], ascending=False, inplace=True)\n",
    "result"
   ]
  },
  {
   "cell_type": "code",
   "execution_count": 15,
   "metadata": {},
   "outputs": [],
   "source": [
    "result['name'] = result['Trend_def']+','+ result['Predict_steps'].astype(str)"
   ]
  },
  {
   "cell_type": "code",
   "execution_count": 16,
   "metadata": {},
   "outputs": [
    {
     "ename": "IndexError",
     "evalue": "index 0 is out of bounds for axis 0 with size 0",
     "output_type": "error",
     "traceback": [
      "\u001b[0;31m---------------------------------------------------------------------------\u001b[0m",
      "\u001b[0;31mIndexError\u001b[0m                                Traceback (most recent call last)",
      "Cell \u001b[0;32mIn[16], line 2\u001b[0m\n\u001b[1;32m      1\u001b[0m \u001b[38;5;28;01mimport\u001b[39;00m \u001b[38;5;21;01mmatplotlib\u001b[39;00m\u001b[38;5;21;01m.\u001b[39;00m\u001b[38;5;21;01mpyplot\u001b[39;00m \u001b[38;5;28;01mas\u001b[39;00m \u001b[38;5;21;01mplt\u001b[39;00m\n\u001b[0;32m----> 2\u001b[0m \u001b[43mresult\u001b[49m\u001b[38;5;241;43m.\u001b[39;49m\u001b[43mplot\u001b[49m\u001b[43m(\u001b[49m\u001b[43mx\u001b[49m\u001b[38;5;241;43m=\u001b[39;49m\u001b[38;5;124;43m'\u001b[39;49m\u001b[38;5;124;43mname\u001b[39;49m\u001b[38;5;124;43m'\u001b[39;49m\u001b[43m,\u001b[49m\u001b[43m \u001b[49m\u001b[43my\u001b[49m\u001b[38;5;241;43m=\u001b[39;49m\u001b[43m[\u001b[49m\u001b[38;5;124;43m'\u001b[39;49m\u001b[38;5;124;43mF1 Score\u001b[39;49m\u001b[38;5;124;43m'\u001b[39;49m\u001b[43m,\u001b[49m\u001b[43m \u001b[49m\u001b[38;5;124;43m'\u001b[39;49m\u001b[38;5;124;43mTotal return\u001b[39;49m\u001b[38;5;124;43m'\u001b[39;49m\u001b[43m]\u001b[49m\u001b[43m,\u001b[49m\u001b[43m \u001b[49m\u001b[43mkind\u001b[49m\u001b[38;5;241;43m=\u001b[39;49m\u001b[38;5;124;43m'\u001b[39;49m\u001b[38;5;124;43mbar\u001b[39;49m\u001b[38;5;124;43m'\u001b[39;49m\u001b[43m,\u001b[49m\u001b[43m \u001b[49m\u001b[43mfigsize\u001b[49m\u001b[38;5;241;43m=\u001b[39;49m\u001b[43m(\u001b[49m\u001b[38;5;241;43m20\u001b[39;49m\u001b[43m,\u001b[49m\u001b[43m \u001b[49m\u001b[38;5;241;43m6\u001b[39;49m\u001b[43m)\u001b[49m\u001b[43m)\u001b[49m\n\u001b[1;32m      4\u001b[0m \u001b[38;5;66;03m# Annotate the y-axis values on the bars for \"F1 Score\"\u001b[39;00m\n\u001b[1;32m      5\u001b[0m \u001b[38;5;28;01mfor\u001b[39;00m index, value \u001b[38;5;129;01min\u001b[39;00m \u001b[38;5;28menumerate\u001b[39m(result[\u001b[38;5;124m'\u001b[39m\u001b[38;5;124mF1 Score\u001b[39m\u001b[38;5;124m'\u001b[39m]):\n",
      "File \u001b[0;32m~/.local/lib/python3.10/site-packages/pandas/plotting/_core.py:1000\u001b[0m, in \u001b[0;36mPlotAccessor.__call__\u001b[0;34m(self, *args, **kwargs)\u001b[0m\n\u001b[1;32m    997\u001b[0m             label_name \u001b[38;5;241m=\u001b[39m label_kw \u001b[38;5;129;01mor\u001b[39;00m data\u001b[38;5;241m.\u001b[39mcolumns\n\u001b[1;32m    998\u001b[0m             data\u001b[38;5;241m.\u001b[39mcolumns \u001b[38;5;241m=\u001b[39m label_name\n\u001b[0;32m-> 1000\u001b[0m \u001b[38;5;28;01mreturn\u001b[39;00m \u001b[43mplot_backend\u001b[49m\u001b[38;5;241;43m.\u001b[39;49m\u001b[43mplot\u001b[49m\u001b[43m(\u001b[49m\u001b[43mdata\u001b[49m\u001b[43m,\u001b[49m\u001b[43m \u001b[49m\u001b[43mkind\u001b[49m\u001b[38;5;241;43m=\u001b[39;49m\u001b[43mkind\u001b[49m\u001b[43m,\u001b[49m\u001b[43m \u001b[49m\u001b[38;5;241;43m*\u001b[39;49m\u001b[38;5;241;43m*\u001b[39;49m\u001b[43mkwargs\u001b[49m\u001b[43m)\u001b[49m\n",
      "File \u001b[0;32m~/.local/lib/python3.10/site-packages/pandas/plotting/_matplotlib/__init__.py:71\u001b[0m, in \u001b[0;36mplot\u001b[0;34m(data, kind, **kwargs)\u001b[0m\n\u001b[1;32m     69\u001b[0m         kwargs[\u001b[38;5;124m\"\u001b[39m\u001b[38;5;124max\u001b[39m\u001b[38;5;124m\"\u001b[39m] \u001b[38;5;241m=\u001b[39m \u001b[38;5;28mgetattr\u001b[39m(ax, \u001b[38;5;124m\"\u001b[39m\u001b[38;5;124mleft_ax\u001b[39m\u001b[38;5;124m\"\u001b[39m, ax)\n\u001b[1;32m     70\u001b[0m plot_obj \u001b[38;5;241m=\u001b[39m PLOT_CLASSES[kind](data, \u001b[38;5;241m*\u001b[39m\u001b[38;5;241m*\u001b[39mkwargs)\n\u001b[0;32m---> 71\u001b[0m \u001b[43mplot_obj\u001b[49m\u001b[38;5;241;43m.\u001b[39;49m\u001b[43mgenerate\u001b[49m\u001b[43m(\u001b[49m\u001b[43m)\u001b[49m\n\u001b[1;32m     72\u001b[0m plot_obj\u001b[38;5;241m.\u001b[39mdraw()\n\u001b[1;32m     73\u001b[0m \u001b[38;5;28;01mreturn\u001b[39;00m plot_obj\u001b[38;5;241m.\u001b[39mresult\n",
      "File \u001b[0;32m~/.local/lib/python3.10/site-packages/pandas/plotting/_matplotlib/core.py:459\u001b[0m, in \u001b[0;36mMPLPlot.generate\u001b[0;34m(self)\u001b[0m\n\u001b[1;32m    457\u001b[0m \u001b[38;5;28;01mfor\u001b[39;00m ax \u001b[38;5;129;01min\u001b[39;00m \u001b[38;5;28mself\u001b[39m\u001b[38;5;241m.\u001b[39maxes:\n\u001b[1;32m    458\u001b[0m     \u001b[38;5;28mself\u001b[39m\u001b[38;5;241m.\u001b[39m_post_plot_logic_common(ax, \u001b[38;5;28mself\u001b[39m\u001b[38;5;241m.\u001b[39mdata)\n\u001b[0;32m--> 459\u001b[0m     \u001b[38;5;28;43mself\u001b[39;49m\u001b[38;5;241;43m.\u001b[39;49m\u001b[43m_post_plot_logic\u001b[49m\u001b[43m(\u001b[49m\u001b[43max\u001b[49m\u001b[43m,\u001b[49m\u001b[43m \u001b[49m\u001b[38;5;28;43mself\u001b[39;49m\u001b[38;5;241;43m.\u001b[39;49m\u001b[43mdata\u001b[49m\u001b[43m)\u001b[49m\n",
      "File \u001b[0;32m~/.local/lib/python3.10/site-packages/pandas/plotting/_matplotlib/core.py:1739\u001b[0m, in \u001b[0;36mBarPlot._post_plot_logic\u001b[0;34m(self, ax, data)\u001b[0m\n\u001b[1;32m   1736\u001b[0m \u001b[38;5;28;01melse\u001b[39;00m:\n\u001b[1;32m   1737\u001b[0m     str_index \u001b[38;5;241m=\u001b[39m [pprint_thing(key) \u001b[38;5;28;01mfor\u001b[39;00m key \u001b[38;5;129;01min\u001b[39;00m \u001b[38;5;28mrange\u001b[39m(data\u001b[38;5;241m.\u001b[39mshape[\u001b[38;5;241m0\u001b[39m])]\n\u001b[0;32m-> 1739\u001b[0m s_edge \u001b[38;5;241m=\u001b[39m \u001b[38;5;28;43mself\u001b[39;49m\u001b[38;5;241;43m.\u001b[39;49m\u001b[43max_pos\u001b[49m\u001b[43m[\u001b[49m\u001b[38;5;241;43m0\u001b[39;49m\u001b[43m]\u001b[49m \u001b[38;5;241m-\u001b[39m \u001b[38;5;241m0.25\u001b[39m \u001b[38;5;241m+\u001b[39m \u001b[38;5;28mself\u001b[39m\u001b[38;5;241m.\u001b[39mlim_offset\n\u001b[1;32m   1740\u001b[0m e_edge \u001b[38;5;241m=\u001b[39m \u001b[38;5;28mself\u001b[39m\u001b[38;5;241m.\u001b[39max_pos[\u001b[38;5;241m-\u001b[39m\u001b[38;5;241m1\u001b[39m] \u001b[38;5;241m+\u001b[39m \u001b[38;5;241m0.25\u001b[39m \u001b[38;5;241m+\u001b[39m \u001b[38;5;28mself\u001b[39m\u001b[38;5;241m.\u001b[39mbar_width \u001b[38;5;241m+\u001b[39m \u001b[38;5;28mself\u001b[39m\u001b[38;5;241m.\u001b[39mlim_offset\n\u001b[1;32m   1742\u001b[0m \u001b[38;5;28mself\u001b[39m\u001b[38;5;241m.\u001b[39m_decorate_ticks(ax, \u001b[38;5;28mself\u001b[39m\u001b[38;5;241m.\u001b[39m_get_index_name(), str_index, s_edge, e_edge)\n",
      "\u001b[0;31mIndexError\u001b[0m: index 0 is out of bounds for axis 0 with size 0"
     ]
    },
    {
     "data": {
      "image/png": "[encoded data removed]",
      "text/plain": [
       "<Figure size 2000x600 with 1 Axes>"
      ]
     },
     "metadata": {},
     "output_type": "display_data"
    }
   ],
   "source": [
    "import matplotlib.pyplot as plt\n",
    "result.plot(x='name', y=['F1 Score', 'Total return'], kind='bar', figsize=(20, 6))\n",
    "\n",
    "# Annotate the y-axis values on the bars for \"F1 Score\"\n",
    "for index, value in enumerate(result['F1 Score']):\n",
    "    plt.annotate(str(round(value, 2)), xy=(index, value), ha='center', va='bottom')\n",
    "\n",
    "# Annotate the y-axis values on the bars for \"Total return\"\n",
    "for index, value in enumerate(result['Total return']):\n",
    "    plt.annotate(str(round(value, 2)), xy=(index, value), ha='center', va='bottom')\n",
    "\n",
    "plt.title('F1 Score and Total return for different Trend definitions and Predict steps, ordered by F1 Score')\n",
    "plt.xticks(rotation=90)  # Rotate x-axis labels to be horizontal\n",
    "plt.show()\n"
   ]
  }
 ],
 "metadata": {
  "kernelspec": {
   "display_name": "myenv",
   "language": "python",
   "name": "python3"
  },
  "language_info": {
   "codemirror_mode": {
    "name": "ipython",
    "version": 3
   },
   "file_extension": ".py",
   "mimetype": "text/x-python",
   "name": "python",
   "nbconvert_exporter": "python",
   "pygments_lexer": "ipython3",
   "version": "3.10.12"
  }
 },
 "nbformat": 4,
 "nbformat_minor": 2
}
